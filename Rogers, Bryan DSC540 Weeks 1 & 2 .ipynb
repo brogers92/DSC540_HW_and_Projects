{
 "cells": [
  {
   "cell_type": "markdown",
   "id": "38e86625",
   "metadata": {},
   "source": [
    "# Week 1 & 2: What is Data Wrangling"
   ]
  },
  {
   "cell_type": "markdown",
   "id": "f2b7b356",
   "metadata": {},
   "source": [
    "## Create a Jupyter Notebook where you:\n",
    "\n",
    "<ul>\n",
    "    <li> Create a list\n",
    "    <li> Iterate over a list and sort your results\n",
    "    <li> Generate random numbers\n",
    "    <li> Add to list\n",
    "    <li> Print your results\n",
    "<ul>"
   ]
  },
  {
   "cell_type": "code",
   "execution_count": 1,
   "id": "15d4ca0e",
   "metadata": {},
   "outputs": [
    {
     "name": "stdout",
     "output_type": "stream",
     "text": [
      "['ATL', 'MIA', 'NYM', 'PHI', 'WSH', 'CHC', 'CIN', 'MIL', 'PIT', 'STL']\n"
     ]
    }
   ],
   "source": [
    "# Create a list\n",
    "# I am creating a list of National League teams in MLB\n",
    "nl_list = ['ATL', 'MIA', 'NYM', 'PHI', 'WSH', 'CHC', 'CIN', 'MIL', 'PIT', 'STL',]\n",
    "\n",
    "print(nl_list)"
   ]
  },
  {
   "cell_type": "code",
   "execution_count": 2,
   "id": "ecb24e00",
   "metadata": {},
   "outputs": [
    {
     "name": "stdout",
     "output_type": "stream",
     "text": [
      "ATL\n",
      "MIA\n",
      "NYM\n",
      "PHI\n",
      "WSH\n",
      "CHC\n",
      "CIN\n",
      "MIL\n",
      "PIT\n",
      "STL\n"
     ]
    }
   ],
   "source": [
    "# Iterate over a list\n",
    "# I will be using a 'for' loop to iterate my list\n",
    "\n",
    "for i in nl_list:\n",
    "    print(i)"
   ]
  },
  {
   "cell_type": "code",
   "execution_count": 3,
   "id": "34ff472e",
   "metadata": {},
   "outputs": [
    {
     "name": "stdout",
     "output_type": "stream",
     "text": [
      "['ATL', 'CHC', 'CIN', 'MIA', 'MIL', 'NYM', 'PHI', 'PIT', 'STL', 'WSH']\n"
     ]
    }
   ],
   "source": [
    "# Sort your results\n",
    "nl_list.sort()\n",
    "\n",
    "print(nl_list)"
   ]
  },
  {
   "cell_type": "code",
   "execution_count": 4,
   "id": "1c760c36",
   "metadata": {},
   "outputs": [
    {
     "name": "stdout",
     "output_type": "stream",
     "text": [
      "[5, 3, 9, 10, 8, 6, 0, 9, 7, 2, 7, 0, 10, 7, 2, 4, 6, 2, 7, 10, 10, 9, 4, 4, 9]\n"
     ]
    }
   ],
   "source": [
    "# Generate random numbers\n",
    "# I will create a new list of random numbers\n",
    "\n",
    "# import random package\n",
    "import random\n",
    "\n",
    "random_list = [random.randint(0, 10) for x in range (0, 25)]\n",
    "\n",
    "print(random_list)"
   ]
  },
  {
   "cell_type": "code",
   "execution_count": 5,
   "id": "587ec6e7",
   "metadata": {},
   "outputs": [
    {
     "name": "stdout",
     "output_type": "stream",
     "text": [
      "['ATL', 'CHC', 'CIN', 'MIA', 'MIL', 'NYM', 'PHI', 'PIT', 'STL', 'WSH', 'ARI', 'COL', 'LAD', 'SDP', 'SFG']\n",
      "['ARI', 'ATL', 'CHC', 'CIN', 'COL', 'LAD', 'MIA', 'MIL', 'NYM', 'PHI', 'PIT', 'SDP', 'SFG', 'STL', 'WSH']\n"
     ]
    }
   ],
   "source": [
    "# Add to list\n",
    "# adding NL west team names to National League list\n",
    "# using append to add to list\n",
    "\n",
    "nl_list.append('ARI')\n",
    "nl_list.append('COL')\n",
    "nl_list.append('LAD')\n",
    "nl_list.append('SDP')\n",
    "nl_list.append('SFG')\n",
    "\n",
    "print(nl_list)\n",
    "\n",
    "nl_list.sort()\n",
    "\n",
    "print(nl_list)"
   ]
  },
  {
   "cell_type": "code",
   "execution_count": 6,
   "id": "6d83f9d9",
   "metadata": {},
   "outputs": [
    {
     "name": "stdout",
     "output_type": "stream",
     "text": [
      "['ARI', 'ATL', 'CHC', 'CIN', 'COL', 'LAD', 'MIA', 'MIL', 'NYM', 'PHI', 'PIT', 'SDP', 'SFG', 'STL', 'WSH']\n"
     ]
    }
   ],
   "source": [
    "# Print your results\n",
    "\n",
    "print(nl_list)"
   ]
  },
  {
   "cell_type": "markdown",
   "id": "7222b9a9",
   "metadata": {},
   "source": [
    "## Create a linechart with Matplotlib"
   ]
  },
  {
   "cell_type": "code",
   "execution_count": 7,
   "id": "37a717e5",
   "metadata": {},
   "outputs": [
    {
     "name": "stdout",
     "output_type": "stream",
     "text": [
      "Requirement already satisfied: matplotlib in /Users/bryansmacbookpro/anaconda3/lib/python3.11/site-packages (3.7.1)\n",
      "Requirement already satisfied: contourpy>=1.0.1 in /Users/bryansmacbookpro/anaconda3/lib/python3.11/site-packages (from matplotlib) (1.0.5)\n",
      "Requirement already satisfied: cycler>=0.10 in /Users/bryansmacbookpro/anaconda3/lib/python3.11/site-packages (from matplotlib) (0.11.0)\n",
      "Requirement already satisfied: fonttools>=4.22.0 in /Users/bryansmacbookpro/anaconda3/lib/python3.11/site-packages (from matplotlib) (4.25.0)\n",
      "Requirement already satisfied: kiwisolver>=1.0.1 in /Users/bryansmacbookpro/anaconda3/lib/python3.11/site-packages (from matplotlib) (1.4.4)\n",
      "Requirement already satisfied: numpy>=1.20 in /Users/bryansmacbookpro/anaconda3/lib/python3.11/site-packages (from matplotlib) (1.24.3)\n",
      "Requirement already satisfied: packaging>=20.0 in /Users/bryansmacbookpro/anaconda3/lib/python3.11/site-packages (from matplotlib) (23.0)\n",
      "Requirement already satisfied: pillow>=6.2.0 in /Users/bryansmacbookpro/anaconda3/lib/python3.11/site-packages (from matplotlib) (9.4.0)\n",
      "Requirement already satisfied: pyparsing>=2.3.1 in /Users/bryansmacbookpro/anaconda3/lib/python3.11/site-packages (from matplotlib) (3.0.9)\n",
      "Requirement already satisfied: python-dateutil>=2.7 in /Users/bryansmacbookpro/anaconda3/lib/python3.11/site-packages (from matplotlib) (2.8.2)\n",
      "Requirement already satisfied: six>=1.5 in /Users/bryansmacbookpro/anaconda3/lib/python3.11/site-packages (from python-dateutil>=2.7->matplotlib) (1.16.0)\n"
     ]
    }
   ],
   "source": [
    "# installing matplotlib \n",
    "!pip install matplotlib"
   ]
  },
  {
   "cell_type": "code",
   "execution_count": 75,
   "id": "e753cde4",
   "metadata": {},
   "outputs": [
    {
     "data": {
      "image/png": "[encoded data removed]",
      "text/plain": [
       "<Figure size 1000x600 with 1 Axes>"
      ]
     },
     "metadata": {},
     "output_type": "display_data"
    }
   ],
   "source": [
    "\n",
    "import pandas as pd\n",
    "import matplotlib.pyplot as plt\n",
    "\n",
    "# read the data from a .csv file\n",
    "\n",
    "data = pd.read_csv('world-population.csv')\n",
    "\n",
    "# label the 'x' and 'y' axis for the line chart\n",
    "\n",
    "x = data['Year']\n",
    "y = data['Population']\n",
    "\n",
    "# create a line chart\n",
    "\n",
    "plt.figure(figsize = (10,6))\n",
    "plt.plot(x, y, linestyle ='-', color='green', label ='Line Chart')\n",
    "\n",
    "# label th chart\n",
    "plt.title('World Population per Year')\n",
    "plt.xlabel('Year')\n",
    "plt.ylabel('Population')\n",
    "\n",
    "# display the chart\n",
    "plt.grid(True)\n",
    "plt.legend()\n",
    "plt.show()\n",
    "\n"
   ]
  },
  {
   "cell_type": "markdown",
   "id": "74b4e14d",
   "metadata": {},
   "source": [
    "# Complete the following activities:"
   ]
  },
  {
   "cell_type": "markdown",
   "id": "3d0d98a4",
   "metadata": {},
   "source": [
    "## a. Data Wrangling with Python: Activity 1 page 17"
   ]
  },
  {
   "cell_type": "markdown",
   "id": "f8c23c43",
   "metadata": {},
   "source": [
    "### 1. Create a list of 100 random numbers"
   ]
  },
  {
   "cell_type": "code",
   "execution_count": 50,
   "id": "98db7f97",
   "metadata": {
    "scrolled": true
   },
   "outputs": [
    {
     "name": "stdout",
     "output_type": "stream",
     "text": [
      "[50, 73, 84, 69, 78, 26, 40, 42, 70, 42, 21, 14, 43, 18, 62, 6, 99, 15, 87, 28, 97, 36, 23, 69, 83, 84, 62, 95, 98, 46, 96, 19, 63, 22, 57, 62, 39, 34, 30, 80, 88, 67, 94, 96, 73, 64, 83, 38, 85, 24, 31, 37, 57, 79, 76, 93, 43, 55, 44, 16, 84, 86, 85, 98, 70, 38, 78, 33, 18, 20, 100, 30, 27, 69, 73, 5, 94, 18, 87, 64, 66, 52, 78, 20, 3, 39, 18, 59, 1, 3, 86, 7, 82, 4, 84, 56, 49, 58, 7, 63]\n"
     ]
    }
   ],
   "source": [
    "# import 'random' library\n",
    "import random\n",
    "\n",
    "# create a list of 100 random numbers with a range of 0 to 100 using 'randint'\n",
    "random_numbers = [random.randint(0,100) for x in range(0,100)]\n",
    "\n",
    "# print results\n",
    "print(random_numbers)"
   ]
  },
  {
   "cell_type": "markdown",
   "id": "37591ee0",
   "metadata": {},
   "source": [
    "### 2. Create a new list from this random list, with numbers that are divisible by 3"
   ]
  },
  {
   "cell_type": "code",
   "execution_count": 51,
   "id": "5a4a1804",
   "metadata": {},
   "outputs": [
    {
     "name": "stdout",
     "output_type": "stream",
     "text": [
      "[84, 69, 78, 42, 42, 21, 18, 6, 99, 15, 87, 36, 69, 84, 96, 63, 57, 39, 30, 96, 24, 57, 93, 84, 78, 33, 18, 30, 27, 69, 18, 87, 66, 78, 3, 39, 18, 3, 84, 63]\n"
     ]
    }
   ],
   "source": [
    "# use random_numbers list from step 1 and create new variable to divisible by 3\n",
    "divisible_by_3 = [x for x in random_numbers if x % 3 == 0]\n",
    "\n",
    "# print new list\n",
    "print(divisible_by_3)\n"
   ]
  },
  {
   "cell_type": "markdown",
   "id": "a7c53df1",
   "metadata": {},
   "source": [
    "### 3. Calculate the length of these two lists and store the difference in a new variable"
   ]
  },
  {
   "cell_type": "code",
   "execution_count": 52,
   "id": "01728af1",
   "metadata": {},
   "outputs": [
    {
     "name": "stdout",
     "output_type": "stream",
     "text": [
      "Random number length: 100\n",
      "Divisible by 3 length: 40\n",
      "Length Difference: 60\n"
     ]
    }
   ],
   "source": [
    "# use the two variables from steps 1 and 2 and create new variables to get length\n",
    "random_numbers_length = len(random_numbers)\n",
    "divisible_by_3_length = len(divisible_by_3)\n",
    "\n",
    "# print lengths of both variables\n",
    "print('Random number length:', random_numbers_length)\n",
    "print('Divisible by 3 length:', divisible_by_3_length)\n",
    "\n",
    "# create new variable to calculate difference of length\n",
    "difference = random_numbers_length - divisible_by_3_length\n",
    "\n",
    "# print results of new variable\n",
    "print('Length Difference:', difference)"
   ]
  },
  {
   "cell_type": "markdown",
   "id": "a96ffa6f",
   "metadata": {},
   "source": [
    "### 4. Using a loop, perform steps 2 and 3 and find the difference variable three times"
   ]
  },
  {
   "cell_type": "code",
   "execution_count": 53,
   "id": "509a1dcf",
   "metadata": {},
   "outputs": [
    {
     "name": "stdout",
     "output_type": "stream",
     "text": [
      "Length Difference: 81\n"
     ]
    }
   ],
   "source": [
    "number_of_loops = 10\n",
    "\n",
    "difference_list = []\n",
    "\n",
    "for i in range(0, number_of_loops): \n",
    "    random_numbers = [random.randint(0,100) for x in range(0,100)]\n",
    "    divisible_by_3 = [x for x in random_numbers if x % 3 == 0]\n",
    "\n",
    "# use the two variables from steps 1 and 2 and create new variables to get length\n",
    "    random_numbers_length = len(random_numbers)\n",
    "    divisible_by_3_length = len(divisible_by_3)\n",
    "\n",
    "# create new variable to calculate difference of length\n",
    "    difference = random_numbers_length - divisible_by_3_length\n",
    "    \n",
    "# adding the differences to the difference list\n",
    "    difference_list.append(difference)\n",
    "\n",
    "# print results of new variable\n",
    "print('Length Difference:', difference)"
   ]
  },
  {
   "cell_type": "markdown",
   "id": "319641ce",
   "metadata": {},
   "source": [
    "### 5. Find the arithmetic mean of these three difference values.\n"
   ]
  },
  {
   "cell_type": "code",
   "execution_count": 54,
   "id": "949a9fe8",
   "metadata": {},
   "outputs": [
    {
     "name": "stdout",
     "output_type": "stream",
     "text": [
      "Arithmetic Mean: 68.8\n"
     ]
    }
   ],
   "source": [
    "mean_difference = sum(difference_list) / float(len(difference_list))\n",
    "\n",
    "print('Arithmetic Mean:', mean_difference)\n"
   ]
  },
  {
   "cell_type": "markdown",
   "id": "b12930ab",
   "metadata": {},
   "source": [
    "## b. Data Wrangling with Python: Activity 2 page 31"
   ]
  },
  {
   "cell_type": "markdown",
   "id": "db72036b",
   "metadata": {},
   "source": [
    "### 1. Create a mutliline_text variable by copying the text from the first chapter of Pride and Prejudice."
   ]
  },
  {
   "cell_type": "code",
   "execution_count": 55,
   "id": "d8304124",
   "metadata": {},
   "outputs": [],
   "source": [
    "multiline_text = \"\"\"It is a truth universally acknowledged, that a single man in possession of a good fortune must be in want of a wife.\n",
    "\n",
    "However little known the feelings or views of such a man may be on his first entering a neighbourhood, this truth is so well fixed in the minds of the surrounding families, that he is considered as the rightful property of some one or other of their daughters.\n",
    "\n",
    "“My dear Mr. Bennet,” said his lady to him one day, “have you heard that Netherfield Park is let at last?{2}”\n",
    "\n",
    "Mr. Bennet replied that he had not.\n",
    "\n",
    "“But it is,” returned she; “for Mrs. Long has just been here, and she told me all about it.”\n",
    "\n",
    "Mr. Bennet made no answer.\n",
    "\n",
    "“Do not you want to know who has taken it?” cried his wife, impatiently.\n",
    "\n",
    "“You want to tell me, and I have no objection to hearing it.\n",
    "This was invitation enough.\n",
    "\n",
    "“Why, my dear, you must know, Mrs. Long says that Netherfield is taken by a young man of large fortune from the north of England; that he came down on Monday in a chaise and four to see the place, and was so much delighted with it that he agreed with Mr. Morris immediately; that he is to take possession before Michaelmas, and some of his servants are to be in the house by the end of next week.{3}”\n",
    "\n",
    "“What is his name?”\n",
    "\n",
    "“Bingley.”\n",
    "\n",
    "“Is he married or single?”\n",
    "\n",
    "“Oh, single, my dear, to be sure! A single man of large fortune; four or five thousand a year. What a fine thing for our girls!”\n",
    "\n",
    "“How so? how can it affect them?”\n",
    "\n",
    "“My dear Mr. Bennet,” replied his wife, “how can you be so tiresome? You must know that I am thinking of his marrying one of them.”\n",
    "\n",
    "“Is that his design in settling here?”\n",
    "\n",
    "“Design? Nonsense, how can you talk so! But it is very likely that he may fall in love with one of them, and therefore you must visit him as soon as he comes.”\n",
    "\n",
    "“I see no occasion for that. You and the girls may go—or you may send them by themselves, which perhaps will be still better; for as you are as handsome as any of them, Mr. Bingley might like you the best of the party.”\n",
    "\n",
    "“My dear, you flatter me. I certainly have had my share of beauty, but I do not pretend to be anything extraordinary now. When a woman has five grown-up daughters, she ought to give over thinking of her own beauty.”\n",
    "\n",
    "“In such cases, a woman has not often much beauty to think of.”\n",
    "\n",
    "“But, my dear, you must indeed go and see Mr. Bingley when he comes into the neighbourhood.”\n",
    "\n",
    "“It is more than I engage for, I assure you.”\n",
    "\n",
    "“But consider your daughters. Only think what an establishment it would be for one of them. Sir William and Lady Lucas are determined to go, merely on that account; for in general, you know, they visit no new{4} comers. Indeed you must go, for it will be impossible for us to visit him, if you do not.”\n",
    "\n",
    "“You are over scrupulous, surely. I dare say Mr. Bingley will be very glad to see you; and I will send a few lines by you to assure him of my hearty consent to his marrying whichever he chooses of the girls—though I must throw in a good word for my little Lizzy.”\n",
    "\n",
    "“I desire you will do no such thing. Lizzy is not a bit better than the others: and I am sure she is not half so handsome as Jane, nor half so good-humoured as Lydia. But you are always giving her the preference.”\n",
    "\n",
    "“They have none of them much to recommend them,” replied he: “they are all silly and ignorant like other girls; but Lizzy has something more of quickness than her sisters.”\n",
    "\n",
    "“Mr. Bennet, how can you abuse your own children in such a way? You take delight in vexing me. You have no compassion on my poor nerves.”\n",
    "\n",
    "“You mistake me, my dear. I have a high respect for your nerves. They are my old friends. I have heard you mention them with consideration these twenty years at least.”\n",
    "\n",
    "“Ah, you do not know what I suffer.”\n",
    "\n",
    "“But I hope you will get over it, and live to see many young men of four thousand a year come into the neighbourhood.”\n",
    "\n",
    "“It will be no use to us, if twenty such should come, since you will not visit them.”\n",
    "\n",
    "“Depend upon it, my dear, that when there are twenty, I will visit them all.”\n",
    "\n",
    "Mr. Bennet was so odd a mixture of quick parts, sarcastic humour, reserve, and caprice, that the experience of three-and-twenty years had been insufficient to{5} make his wife understand his character. Her mind was less difficult to develope. She was a woman of mean understanding, little information, and uncertain temper. When she was discontented, she fancied herself nervous. The business of her life was to get her daughters married: its solace was visiting and news.\"\"\"\n",
    "\n"
   ]
  },
  {
   "cell_type": "markdown",
   "id": "0677395a",
   "metadata": {},
   "source": [
    "### 2. Find the type and length of the multiline_text string using the commands type and len."
   ]
  },
  {
   "cell_type": "code",
   "execution_count": 106,
   "id": "38c5fcbf",
   "metadata": {},
   "outputs": [
    {
     "data": {
      "text/plain": [
       "str"
      ]
     },
     "execution_count": 106,
     "metadata": {},
     "output_type": "execute_result"
    }
   ],
   "source": [
    "# use 'type' function to determine the string type for variable\n",
    "\n",
    "type(multiline_text)"
   ]
  },
  {
   "cell_type": "code",
   "execution_count": 107,
   "id": "6c8df969",
   "metadata": {},
   "outputs": [
    {
     "data": {
      "text/plain": [
       "4418"
      ]
     },
     "execution_count": 107,
     "metadata": {},
     "output_type": "execute_result"
    }
   ],
   "source": [
    "# use 'len' function to determine the length of the variable\n",
    "\n",
    "len(multiline_text)"
   ]
  },
  {
   "cell_type": "markdown",
   "id": "1b0036a0",
   "metadata": {},
   "source": [
    "### 3. Remove all new lines and symbols using the replace function."
   ]
  },
  {
   "cell_type": "code",
   "execution_count": 109,
   "id": "7bdc888f",
   "metadata": {},
   "outputs": [
    {
     "name": "stdout",
     "output_type": "stream",
     "text": [
      "It is a truth universally acknowledged, that a single man in possession of a good fortune must be in want of a wife.However little known the feelings or views of such a man may be on his first entering a neighbourhood, this truth is so well fixed in the minds of the surrounding families, that he is considered as the rightful property of some one or other of their daughters.“My dear Mr. Bennet,” said his lady to him one day, “have you heard that Netherfield Park is let at last?{2}”Mr. Bennet replied that he had not.“But it is,” returned she; “for Mrs. Long has just been here, and she told me all about it.”Mr. Bennet made no answer.“Do not you want to know who has taken it?” cried his wife, impatiently.“You want to tell me, and I have no objection to hearing it.This was invitation enough.“Why, my dear, you must know, Mrs. Long says that Netherfield is taken by a young man of large fortune from the north of England; that he came down on Monday in a chaise and four to see the place, and was so much delighted with it that he agreed with Mr. Morris immediately; that he is to take possession before Michaelmas, and some of his servants are to be in the house by the end of next week.{3}”“What is his name?”“Bingley.”“Is he married or single?”“Oh, single, my dear, to be sure! A single man of large fortune; four or five thousand a year. What a fine thing for our girls!”“How so? how can it affect them?”“My dear Mr. Bennet,” replied his wife, “how can you be so tiresome? You must know that I am thinking of his marrying one of them.”“Is that his design in settling here?”“Design? Nonsense, how can you talk so! But it is very likely that he may fall in love with one of them, and therefore you must visit him as soon as he comes.”“I see no occasion for that. You and the girls may go—or you may send them by themselves, which perhaps will be still better; for as you are as handsome as any of them, Mr. Bingley might like you the best of the party.”“My dear, you flatter me. I certainly have had my share of beauty, but I do not pretend to be anything extraordinary now. When a woman has five grown-up daughters, she ought to give over thinking of her own beauty.”“In such cases, a woman has not often much beauty to think of.”“But, my dear, you must indeed go and see Mr. Bingley when he comes into the neighbourhood.”“It is more than I engage for, I assure you.”“But consider your daughters. Only think what an establishment it would be for one of them. Sir William and Lady Lucas are determined to go, merely on that account; for in general, you know, they visit no new{4} comers. Indeed you must go, for it will be impossible for us to visit him, if you do not.”“You are over scrupulous, surely. I dare say Mr. Bingley will be very glad to see you; and I will send a few lines by you to assure him of my hearty consent to his marrying whichever he chooses of the girls—though I must throw in a good word for my little Lizzy.”“I desire you will do no such thing. Lizzy is not a bit better than the others: and I am sure she is not half so handsome as Jane, nor half so good-humoured as Lydia. But you are always giving her the preference.”“They have none of them much to recommend them,” replied he: “they are all silly and ignorant like other girls; but Lizzy has something more of quickness than her sisters.”“Mr. Bennet, how can you abuse your own children in such a way? You take delight in vexing me. You have no compassion on my poor nerves.”“You mistake me, my dear. I have a high respect for your nerves. They are my old friends. I have heard you mention them with consideration these twenty years at least.”“Ah, you do not know what I suffer.”“But I hope you will get over it, and live to see many young men of four thousand a year come into the neighbourhood.”“It will be no use to us, if twenty such should come, since you will not visit them.”“Depend upon it, my dear, that when there are twenty, I will visit them all.”Mr. Bennet was so odd a mixture of quick parts, sarcastic humour, reserve, and caprice, that the experience of three-and-twenty years had been insufficient to{5} make his wife understand his character. Her mind was less difficult to develope. She was a woman of mean understanding, little information, and uncertain temper. When she was discontented, she fancied herself nervous. The business of her life was to get her daughters married: its solace was visiting and news.\n",
      "It is a truth universally acknowledged  that a single man in possession of a good fortune must be in want of a wife However little known the feelings or views of such a man may be on his first entering a neighbourhood  this truth is so well fixed in the minds of the surrounding families  that he is considered as the rightful property of some one or other of their daughters  My dear Mr  Bennet   said his lady to him one day   have you heard that Netherfield Park is let at last  2  Mr  Bennet replied that he had not  But it is   returned she   for Mrs  Long has just been here  and she told me all about it  Mr  Bennet made no answer  Do not you want to know who has taken it   cried his wife  impatiently  You want to tell me  and I have no objection to hearing it This was invitation enough  Why  my dear  you must know  Mrs  Long says that Netherfield is taken by a young man of large fortune from the north of England  that he came down on Monday in a chaise and four to see the place  and was so much delighted with it that he agreed with Mr  Morris immediately  that he is to take possession before Michaelmas  and some of his servants are to be in the house by the end of next week  3   What is his name   Bingley   Is he married or single   Oh  single  my dear  to be sure  A single man of large fortune  four or five thousand a year  What a fine thing for our girls   How so  how can it affect them   My dear Mr  Bennet   replied his wife   how can you be so tiresome  You must know that I am thinking of his marrying one of them   Is that his design in settling here   Design  Nonsense  how can you talk so  But it is very likely that he may fall in love with one of them  and therefore you must visit him as soon as he comes   I see no occasion for that  You and the girls may go or you may send them by themselves  which perhaps will be still better  for as you are as handsome as any of them  Mr  Bingley might like you the best of the party   My dear  you flatter me  I certainly have had my share of beauty  but I do not pretend to be anything extraordinary now  When a woman has five grown up daughters  she ought to give over thinking of her own beauty   In such cases  a woman has not often much beauty to think of   But  my dear  you must indeed go and see Mr  Bingley when he comes into the neighbourhood   It is more than I engage for  I assure you   But consider your daughters  Only think what an establishment it would be for one of them  Sir William and Lady Lucas are determined to go  merely on that account  for in general  you know  they visit no new 4  comers  Indeed you must go  for it will be impossible for us to visit him  if you do not   You are over scrupulous  surely  I dare say Mr  Bingley will be very glad to see you  and I will send a few lines by you to assure him of my hearty consent to his marrying whichever he chooses of the girls though I must throw in a good word for my little Lizzy   I desire you will do no such thing  Lizzy is not a bit better than the others  and I am sure she is not half so handsome as Jane  nor half so good humoured as Lydia  But you are always giving her the preference   They have none of them much to recommend them   replied he   they are all silly and ignorant like other girls  but Lizzy has something more of quickness than her sisters   Mr  Bennet  how can you abuse your own children in such a way  You take delight in vexing me  You have no compassion on my poor nerves   You mistake me  my dear  I have a high respect for your nerves  They are my old friends  I have heard you mention them with consideration these twenty years at least   Ah  you do not know what I suffer   But I hope you will get over it  and live to see many young men of four thousand a year come into the neighbourhood   It will be no use to us  if twenty such should come  since you will not visit them   Depend upon it  my dear  that when there are twenty  I will visit them all  Mr  Bennet was so odd a mixture of quick parts  sarcastic humour  reserve  and caprice  that the experience of three and twenty years had been insufficient to 5  make his wife understand his character  Her mind was less difficult to develope  She was a woman of mean understanding  little information  and uncertain temper  When she was discontented  she fancied herself nervous  The business of her life was to get her daughters married  its solace was visiting and news \n"
     ]
    }
   ],
   "source": [
    "multiline_text = multiline_text.replace('\\n', \"\")\n",
    "\n",
    "print(multiline_text)\n",
    "\n",
    "# use a for loop and if/else statement to remove and clean up any other punctuation or special instances\n",
    "\n",
    "clean_multiline_text = \"\"\n",
    "for char in multiline_text:\n",
    "    if char == \"\":\n",
    "        clean_multiline_text += char\n",
    "    # use 'isalum' to check string for alphanumeric char\n",
    "    elif char.isalnum():\n",
    "        clean_multiline_text += char\n",
    "    else:\n",
    "        clean_multiline_text += \" \"\n",
    "        \n",
    "# print results\n",
    "print(clean_multiline_text)"
   ]
  },
  {
   "cell_type": "markdown",
   "id": "d535a48e",
   "metadata": {},
   "source": [
    "### 4. Find all of the words in multiline_text using the split function."
   ]
  },
  {
   "cell_type": "code",
   "execution_count": 58,
   "id": "019365e0",
   "metadata": {},
   "outputs": [
    {
     "name": "stdout",
     "output_type": "stream",
     "text": [
      "['It', 'is', 'a', 'truth', 'universally', 'acknowledged', 'that', 'a', 'single', 'man', 'in', 'possession', 'of', 'a', 'good', 'fortune', 'must', 'be', 'in', 'want', 'of', 'a', 'wife', 'However', 'little', 'known', 'the', 'feelings', 'or', 'views', 'of', 'such', 'a', 'man', 'may', 'be', 'on', 'his', 'first', 'entering', 'a', 'neighbourhood', 'this', 'truth', 'is', 'so', 'well', 'fixed', 'in', 'the', 'minds', 'of', 'the', 'surrounding', 'families', 'that', 'he', 'is', 'considered', 'as', 'the', 'rightful', 'property', 'of', 'some', 'one', 'or', 'other', 'of', 'their', 'daughters', 'My', 'dear', 'Mr', 'Bennet', 'said', 'his', 'lady', 'to', 'him', 'one', 'day', 'have', 'you', 'heard', 'that', 'Netherfield', 'Park', 'is', 'let', 'at', 'last', '2', 'Mr', 'Bennet', 'replied', 'that', 'he', 'had', 'not', 'But', 'it', 'is', 'returned', 'she', 'for', 'Mrs', 'Long', 'has', 'just', 'been', 'here', 'and', 'she', 'told', 'me', 'all', 'about', 'it', 'Mr', 'Bennet', 'made', 'no', 'answer', 'Do', 'not', 'you', 'want', 'to', 'know', 'who', 'has', 'taken', 'it', 'cried', 'his', 'wife', 'impatiently', 'You', 'want', 'to', 'tell', 'me', 'and', 'I', 'have', 'no', 'objection', 'to', 'hearing', 'it', 'This', 'was', 'invitation', 'enough', 'Why', 'my', 'dear', 'you', 'must', 'know', 'Mrs', 'Long', 'says', 'that', 'Netherfield', 'is', 'taken', 'by', 'a', 'young', 'man', 'of', 'large', 'fortune', 'from', 'the', 'north', 'of', 'England', 'that', 'he', 'came', 'down', 'on', 'Monday', 'in', 'a', 'chaise', 'and', 'four', 'to', 'see', 'the', 'place', 'and', 'was', 'so', 'much', 'delighted', 'with', 'it', 'that', 'he', 'agreed', 'with', 'Mr', 'Morris', 'immediately', 'that', 'he', 'is', 'to', 'take', 'possession', 'before', 'Michaelmas', 'and', 'some', 'of', 'his', 'servants', 'are', 'to', 'be', 'in', 'the', 'house', 'by', 'the', 'end', 'of', 'next', 'week', '3', 'What', 'is', 'his', 'name', 'Bingley', 'Is', 'he', 'married', 'or', 'single', 'Oh', 'single', 'my', 'dear', 'to', 'be', 'sure', 'A', 'single', 'man', 'of', 'large', 'fortune', 'four', 'or', 'five', 'thousand', 'a', 'year', 'What', 'a', 'fine', 'thing', 'for', 'our', 'girls', 'How', 'so', 'how', 'can', 'it', 'affect', 'them', 'My', 'dear', 'Mr', 'Bennet', 'replied', 'his', 'wife', 'how', 'can', 'you', 'be', 'so', 'tiresome', 'You', 'must', 'know', 'that', 'I', 'am', 'thinking', 'of', 'his', 'marrying', 'one', 'of', 'them', 'Is', 'that', 'his', 'design', 'in', 'settling', 'here', 'Design', 'Nonsense', 'how', 'can', 'you', 'talk', 'so', 'But', 'it', 'is', 'very', 'likely', 'that', 'he', 'may', 'fall', 'in', 'love', 'with', 'one', 'of', 'them', 'and', 'therefore', 'you', 'must', 'visit', 'him', 'as', 'soon', 'as', 'he', 'comes', 'I', 'see', 'no', 'occasion', 'for', 'that', 'You', 'and', 'the', 'girls', 'may', 'go', 'or', 'you', 'may', 'send', 'them', 'by', 'themselves', 'which', 'perhaps', 'will', 'be', 'still', 'better', 'for', 'as', 'you', 'are', 'as', 'handsome', 'as', 'any', 'of', 'them', 'Mr', 'Bingley', 'might', 'like', 'you', 'the', 'best', 'of', 'the', 'party', 'My', 'dear', 'you', 'flatter', 'me', 'I', 'certainly', 'have', 'had', 'my', 'share', 'of', 'beauty', 'but', 'I', 'do', 'not', 'pretend', 'to', 'be', 'anything', 'extraordinary', 'now', 'When', 'a', 'woman', 'has', 'five', 'grown', 'up', 'daughters', 'she', 'ought', 'to', 'give', 'over', 'thinking', 'of', 'her', 'own', 'beauty', 'In', 'such', 'cases', 'a', 'woman', 'has', 'not', 'often', 'much', 'beauty', 'to', 'think', 'of', 'But', 'my', 'dear', 'you', 'must', 'indeed', 'go', 'and', 'see', 'Mr', 'Bingley', 'when', 'he', 'comes', 'into', 'the', 'neighbourhood', 'It', 'is', 'more', 'than', 'I', 'engage', 'for', 'I', 'assure', 'you', 'But', 'consider', 'your', 'daughters', 'Only', 'think', 'what', 'an', 'establishment', 'it', 'would', 'be', 'for', 'one', 'of', 'them', 'Sir', 'William', 'and', 'Lady', 'Lucas', 'are', 'determined', 'to', 'go', 'merely', 'on', 'that', 'account', 'for', 'in', 'general', 'you', 'know', 'they', 'visit', 'no', 'new', '4', 'comers', 'Indeed', 'you', 'must', 'go', 'for', 'it', 'will', 'be', 'impossible', 'for', 'us', 'to', 'visit', 'him', 'if', 'you', 'do', 'not', 'You', 'are', 'over', 'scrupulous', 'surely', 'I', 'dare', 'say', 'Mr', 'Bingley', 'will', 'be', 'very', 'glad', 'to', 'see', 'you', 'and', 'I', 'will', 'send', 'a', 'few', 'lines', 'by', 'you', 'to', 'assure', 'him', 'of', 'my', 'hearty', 'consent', 'to', 'his', 'marrying', 'whichever', 'he', 'chooses', 'of', 'the', 'girls', 'though', 'I', 'must', 'throw', 'in', 'a', 'good', 'word', 'for', 'my', 'little', 'Lizzy', 'I', 'desire', 'you', 'will', 'do', 'no', 'such', 'thing', 'Lizzy', 'is', 'not', 'a', 'bit', 'better', 'than', 'the', 'others', 'and', 'I', 'am', 'sure', 'she', 'is', 'not', 'half', 'so', 'handsome', 'as', 'Jane', 'nor', 'half', 'so', 'good', 'humoured', 'as', 'Lydia', 'But', 'you', 'are', 'always', 'giving', 'her', 'the', 'preference', 'They', 'have', 'none', 'of', 'them', 'much', 'to', 'recommend', 'them', 'replied', 'he', 'they', 'are', 'all', 'silly', 'and', 'ignorant', 'like', 'other', 'girls', 'but', 'Lizzy', 'has', 'something', 'more', 'of', 'quickness', 'than', 'her', 'sisters', 'Mr', 'Bennet', 'how', 'can', 'you', 'abuse', 'your', 'own', 'children', 'in', 'such', 'a', 'way', 'You', 'take', 'delight', 'in', 'vexing', 'me', 'You', 'have', 'no', 'compassion', 'on', 'my', 'poor', 'nerves', 'You', 'mistake', 'me', 'my', 'dear', 'I', 'have', 'a', 'high', 'respect', 'for', 'your', 'nerves', 'They', 'are', 'my', 'old', 'friends', 'I', 'have', 'heard', 'you', 'mention', 'them', 'with', 'consideration', 'these', 'twenty', 'years', 'at', 'least', 'Ah', 'you', 'do', 'not', 'know', 'what', 'I', 'suffer', 'But', 'I', 'hope', 'you', 'will', 'get', 'over', 'it', 'and', 'live', 'to', 'see', 'many', 'young', 'men', 'of', 'four', 'thousand', 'a', 'year', 'come', 'into', 'the', 'neighbourhood', 'It', 'will', 'be', 'no', 'use', 'to', 'us', 'if', 'twenty', 'such', 'should', 'come', 'since', 'you', 'will', 'not', 'visit', 'them', 'Depend', 'upon', 'it', 'my', 'dear', 'that', 'when', 'there', 'are', 'twenty', 'I', 'will', 'visit', 'them', 'all', 'Mr', 'Bennet', 'was', 'so', 'odd', 'a', 'mixture', 'of', 'quick', 'parts', 'sarcastic', 'humour', 'reserve', 'and', 'caprice', 'that', 'the', 'experience', 'of', 'three', 'and', 'twenty', 'years', 'had', 'been', 'insufficient', 'to', '5', 'make', 'his', 'wife', 'understand', 'his', 'character', 'Her', 'mind', 'was', 'less', 'difficult', 'to', 'develope', 'She', 'was', 'a', 'woman', 'of', 'mean', 'understanding', 'little', 'information', 'and', 'uncertain', 'temper', 'When', 'she', 'was', 'discontented', 'she', 'fancied', 'herself', 'nervous', 'The', 'business', 'of', 'her', 'life', 'was', 'to', 'get', 'her', 'daughters', 'married', 'its', 'solace', 'was', 'visiting', 'and', 'news']\n"
     ]
    },
    {
     "data": {
      "text/plain": [
       "857"
      ]
     },
     "execution_count": 58,
     "metadata": {},
     "output_type": "execute_result"
    }
   ],
   "source": [
    "# use the 'split' function to find all of the world in the text\n",
    "\n",
    "word_list = clean_multiline_text.split()\n",
    "\n",
    "# print results\n",
    "\n",
    "print(word_list)\n",
    "\n",
    "# use 'len' function to calculate the number of words in the list\n",
    "\n",
    "len(word_list)"
   ]
  },
  {
   "cell_type": "markdown",
   "id": "0fe919da",
   "metadata": {},
   "source": [
    "### 5. Create a list from this list that will contain only the unique words."
   ]
  },
  {
   "cell_type": "code",
   "execution_count": 59,
   "id": "a038d84e",
   "metadata": {},
   "outputs": [
    {
     "data": {
      "text/plain": [
       "345"
      ]
     },
     "execution_count": 59,
     "metadata": {},
     "output_type": "execute_result"
    }
   ],
   "source": [
    "# use the dict to create a list of unique words\n",
    "\n",
    "unique_words_list = dict.fromkeys(word_list)\n",
    "\n",
    "# use 'len' function to get number of unique words\n",
    "\n",
    "len(list(unique_words_list.keys()))\n"
   ]
  },
  {
   "cell_type": "markdown",
   "id": "484b03c7",
   "metadata": {},
   "source": [
    "### 6. Count the number of times the unique word has appeared in the list using the key and value in dict."
   ]
  },
  {
   "cell_type": "code",
   "execution_count": 81,
   "id": "6ddfcd96",
   "metadata": {},
   "outputs": [
    {
     "ename": "KeyError",
     "evalue": "'It'",
     "output_type": "error",
     "traceback": [
      "\u001b[0;31m---------------------------------------------------------------------------\u001b[0m",
      "\u001b[0;31mKeyError\u001b[0m                                  Traceback (most recent call last)",
      "Cell \u001b[0;32mIn[81], line 4\u001b[0m\n\u001b[1;32m      1\u001b[0m \u001b[38;5;66;03m# use a for loop and an if/else statement to count unique words\u001b[39;00m\n\u001b[1;32m      3\u001b[0m \u001b[38;5;28;01mfor\u001b[39;00m word \u001b[38;5;129;01min\u001b[39;00m word_list:\n\u001b[0;32m----> 4\u001b[0m     \u001b[38;5;28;01mif\u001b[39;00m unique_words_list[word] \u001b[38;5;129;01mis\u001b[39;00m \u001b[38;5;28;01mNone\u001b[39;00m:\n\u001b[1;32m      5\u001b[0m         unique_words_list \u001b[38;5;241m=\u001b[39m \u001b[38;5;241m1\u001b[39m\n\u001b[1;32m      6\u001b[0m     \u001b[38;5;28;01melse\u001b[39;00m: \n",
      "\u001b[0;31mKeyError\u001b[0m: 'It'"
     ]
    }
   ],
   "source": [
    "# use a for loop and an if/else statement to count unique words\n",
    "\n",
    "for word in word_list:\n",
    "    if unique_words_list[word] is None:\n",
    "        unique_words_list = 1\n",
    "    else: \n",
    "        unique_word_list[word] += 1\n",
    "    \n",
    "print(unique_words_list)"
   ]
  },
  {
   "cell_type": "markdown",
   "id": "d15a5404",
   "metadata": {},
   "source": [
    "### 7. Find the top 25 words from the unique words that you have found using the slice function."
   ]
  },
  {
   "cell_type": "code",
   "execution_count": 80,
   "id": "775dda6e",
   "metadata": {},
   "outputs": [
    {
     "data": {
      "text/plain": [
       "[]"
      ]
     },
     "execution_count": 80,
     "metadata": {},
     "output_type": "execute_result"
    }
   ],
   "source": [
    "top25_words = sorted(unique_words_list.items(), key=lambda key_value_t: key_value_t[1], reverse = True)\n",
    "\n",
    "top25_words[:25]\n"
   ]
  },
  {
   "cell_type": "markdown",
   "id": "0709a7e7",
   "metadata": {},
   "source": [
    "## c. Data Wrangling with Python: Activity 3 page 49"
   ]
  },
  {
   "cell_type": "markdown",
   "id": "f69b309d",
   "metadata": {},
   "source": [
    "### 1. Look up the definition of permutations and dropwhile from itertools."
   ]
  },
  {
   "cell_type": "code",
   "execution_count": 62,
   "id": "c364bcf8",
   "metadata": {},
   "outputs": [],
   "source": [
    "# import the function libraries\n",
    "\n",
    "from itertools import (dropwhile, permutations)\n",
    "\n",
    "# use the '? + Shift + Enter' keyboard shortcut to bring up function definitions\n",
    "\n",
    "dropwhile?\n",
    "permutations?"
   ]
  },
  {
   "cell_type": "markdown",
   "id": "61961091",
   "metadata": {},
   "source": [
    "### 2. Write an expression to generate all the possible three-digit numbers using 0, 1, and 2."
   ]
  },
  {
   "cell_type": "code",
   "execution_count": 103,
   "id": "869b21c1",
   "metadata": {},
   "outputs": [
    {
     "data": {
      "text/plain": [
       "<itertools.permutations at 0x137a9d710>"
      ]
     },
     "execution_count": 103,
     "metadata": {},
     "output_type": "execute_result"
    }
   ],
   "source": [
    "permutations(range(3))"
   ]
  },
  {
   "cell_type": "markdown",
   "id": "eac617ac",
   "metadata": {},
   "source": [
    "### 3. Loop over the iterator expression you generated before. Print each element that's returned by the iterator.     Use assert and isinstance to make sure that the elements are of the tuple type."
   ]
  },
  {
   "cell_type": "code",
   "execution_count": 94,
   "id": "19335fe4",
   "metadata": {},
   "outputs": [
    {
     "name": "stdout",
     "output_type": "stream",
     "text": [
      "(0, 1, 2)\n",
      "(0, 2, 1)\n",
      "(1, 0, 2)\n",
      "(1, 2, 0)\n",
      "(2, 0, 1)\n",
      "(2, 1, 0)\n"
     ]
    }
   ],
   "source": [
    "for number_tuple in permutations(range(3)):\n",
    "    print(number_tuple)\n",
    "    assert isinstance(number_tuple, tuple)"
   ]
  },
  {
   "cell_type": "markdown",
   "id": "b141ab25",
   "metadata": {},
   "source": [
    "### 4. Write the loop again using dropwhile with a lambda expression to drop any leading zeros from the tuples. As an example, (0, 1, 2) will become [0, 2]. Also, cast the output of dropwhile to a list."
   ]
  },
  {
   "cell_type": "code",
   "execution_count": 47,
   "id": "480ac15d",
   "metadata": {},
   "outputs": [
    {
     "name": "stdout",
     "output_type": "stream",
     "text": [
      "[1, 2]\n",
      "[2, 1]\n",
      "[1, 0, 2]\n",
      "[1, 2, 0]\n",
      "[2, 0, 1]\n",
      "[2, 1, 0]\n"
     ]
    }
   ],
   "source": [
    "for number_tuple in permutations(range(3)):\n",
    "    print(list(dropwhile(lambda x: x <= 0, number_tuple)))\n",
    "    "
   ]
  },
  {
   "cell_type": "markdown",
   "id": "a5a1e278",
   "metadata": {},
   "source": [
    "### 5. Check the actual type that dropwhile returns."
   ]
  },
  {
   "cell_type": "code",
   "execution_count": 90,
   "id": "9b8f702f",
   "metadata": {},
   "outputs": [
    {
     "data": {
      "text/plain": [
       "list"
      ]
     },
     "execution_count": 90,
     "metadata": {},
     "output_type": "execute_result"
    }
   ],
   "source": [
    "type(list(dropwhile(lambda x: x <= 0, number_tuple)))"
   ]
  },
  {
   "cell_type": "markdown",
   "id": "80b66ff8",
   "metadata": {},
   "source": [
    "### 6. Combine the preceding code into one block, and this time write a separate function where you will pass the list generated from dropwhile, and the function will return the whole number contained in the list."
   ]
  },
  {
   "cell_type": "code",
   "execution_count": 87,
   "id": "3c5aa19e",
   "metadata": {},
   "outputs": [],
   "source": [
    "import math\n",
    "def convert_to_number(stack_numbers):\n",
    "    final_number = 0\n",
    "    for x in range(0, len(stack_numbers)):\n",
    "        final_number += (stack_numbers.pop() * (math.pow(10, i)))\n",
    "    return final_number       "
   ]
  },
  {
   "cell_type": "code",
   "execution_count": 104,
   "id": "a71daa01",
   "metadata": {
    "scrolled": true
   },
   "outputs": [
    {
     "ename": "TypeError",
     "evalue": "'type' object is not iterable",
     "output_type": "error",
     "traceback": [
      "\u001b[0;31m---------------------------------------------------------------------------\u001b[0m",
      "\u001b[0;31mTypeError\u001b[0m                                 Traceback (most recent call last)",
      "Cell \u001b[0;32mIn[104], line 1\u001b[0m\n\u001b[0;32m----> 1\u001b[0m \u001b[38;5;28;01mfor\u001b[39;00m number_tuple \u001b[38;5;129;01min\u001b[39;00m permutations(\u001b[38;5;28mrange\u001b[39m, (\u001b[38;5;241m3\u001b[39m)):\n\u001b[1;32m      2\u001b[0m         stack_numbers \u001b[38;5;241m=\u001b[39m \u001b[38;5;28mlist\u001b[39m(dropwhile(\u001b[38;5;28;01mlambda\u001b[39;00m x: x \u001b[38;5;241m<\u001b[39m\u001b[38;5;241m=\u001b[39m \u001b[38;5;241m0\u001b[39m, number_tuple))\n\u001b[1;32m      3\u001b[0m         \u001b[38;5;28mprint\u001b[39m(convert_to_number(stack_numbers))\n",
      "\u001b[0;31mTypeError\u001b[0m: 'type' object is not iterable"
     ]
    }
   ],
   "source": [
    "\n",
    "\n",
    "for number_tuple in permutations(range, (3)):\n",
    "        stack_numbers = list(dropwhile(lambda x: x <= 0, number_tuple))\n",
    "        print(convert_to_number(stack_numbers))"
   ]
  },
  {
   "cell_type": "markdown",
   "id": "c1a8fc3d",
   "metadata": {},
   "source": [
    "## d. Data Wrangling with Python: Activity 4 page 59"
   ]
  },
  {
   "cell_type": "markdown",
   "id": "5659f1d0",
   "metadata": {},
   "source": [
    "### 1. Import zip_longest from itertools. Create a function to zip header, line and fillvalue=None."
   ]
  },
  {
   "cell_type": "code",
   "execution_count": 70,
   "id": "7bcf6fff",
   "metadata": {},
   "outputs": [],
   "source": [
    "from itertools import zip_longest \n",
    "\n",
    "# create a function that collects the header and line and zips them together\n",
    "# use a 'dictonary' variable to return the output for the dictonary\n",
    "\n",
    "def return_dict_from_csv_line(header, line):\n",
    "    zipped_data = zip_longest(header, line, fillvalue=None)\n",
    "    final_dict = {kv[0]: kv[1] for kv in zipped_data}\n",
    "    return final_dict"
   ]
  },
  {
   "cell_type": "markdown",
   "id": "adf77f91",
   "metadata": {},
   "source": [
    "### 2. Open the accompanying sales_record.csv file from the GitHub link by using r mode inside a with block and first check that it is opened.\n",
    "    "
   ]
  },
  {
   "cell_type": "code",
   "execution_count": 92,
   "id": "bffc4546",
   "metadata": {},
   "outputs": [
    {
     "name": "stdout",
     "output_type": "stream",
     "text": [
      "{'Region': 'Central America and the Caribbean', 'Country': 'Antigua and Barbuda ', 'Item Type': 'Baby Food', 'Sales Channel': 'Online', 'Order Priority': 'M', 'Order Date': '12/20/2013', 'Order ID': '957081544', 'Ship Date': '1/11/2014', 'Units Sold': '552', 'Unit Price': '255.28', 'Unit Cost': '159.42', 'Total Revenue': '140914.56', 'Total Cost': '87999.84', 'Total Profit': '52914.72'}\n",
      "{'Region': 'Central America and the Caribbean', 'Country': 'Panama', 'Item Type': 'Snacks', 'Sales Channel': 'Offline', 'Order Priority': 'C', 'Order Date': '7/5/2010', 'Order ID': '301644504', 'Ship Date': '7/26/2010', 'Units Sold': '2167', 'Unit Price': '152.58', 'Unit Cost': '97.44', 'Total Revenue': '330640.86', 'Total Cost': '211152.48', 'Total Profit': '119488.38'}\n",
      "{'Region': 'Europe', 'Country': 'Czech Republic', 'Item Type': 'Beverages', 'Sales Channel': 'Offline', 'Order Priority': 'C', 'Order Date': '9/12/2011', 'Order ID': '478051030', 'Ship Date': '9/29/2011', 'Units Sold': '4778', 'Unit Price': '47.45', 'Unit Cost': '31.79', 'Total Revenue': '226716.10', 'Total Cost': '151892.62', 'Total Profit': '74823.48'}\n",
      "{'Region': 'Asia', 'Country': 'North Korea', 'Item Type': 'Cereal', 'Sales Channel': 'Offline', 'Order Priority': 'L', 'Order Date': '5/13/2010', 'Order ID': '892599952', 'Ship Date': '6/15/2010', 'Units Sold': '9016', 'Unit Price': '205.70', 'Unit Cost': '117.11', 'Total Revenue': '1854591.20', 'Total Cost': '1055863.76', 'Total Profit': '798727.44'}\n",
      "{'Region': 'Asia', 'Country': 'Sri Lanka', 'Item Type': 'Snacks', 'Sales Channel': 'Offline', 'Order Priority': 'C', 'Order Date': '7/20/2015', 'Order ID': '571902596', 'Ship Date': '7/27/2015', 'Units Sold': '7542', 'Unit Price': '152.58', 'Unit Cost': '97.44', 'Total Revenue': '1150758.36', 'Total Cost': '734892.48', 'Total Profit': '415865.88'}\n",
      "{'Region': 'Middle East and North Africa', 'Country': 'Morocco', 'Item Type': 'Personal Care', 'Sales Channel': 'Offline', 'Order Priority': 'L', 'Order Date': '11/8/2010', 'Order ID': '412882792', 'Ship Date': '11/22/2010', 'Units Sold': '48', 'Unit Price': '81.73', 'Unit Cost': '56.67', 'Total Revenue': '3923.04', 'Total Cost': '2720.16', 'Total Profit': '1202.88'}\n",
      "{'Region': 'Australia and Oceania', 'Country': 'Federated States of Micronesia', 'Item Type': 'Clothes', 'Sales Channel': 'Offline', 'Order Priority': 'H', 'Order Date': '3/28/2011', 'Order ID': '932776868', 'Ship Date': '5/10/2011', 'Units Sold': '8258', 'Unit Price': '109.28', 'Unit Cost': '35.84', 'Total Revenue': '902434.24', 'Total Cost': '295966.72', 'Total Profit': '606467.52'}\n",
      "{'Region': 'Europe', 'Country': 'Bosnia and Herzegovina', 'Item Type': 'Clothes', 'Sales Channel': 'Online', 'Order Priority': 'M', 'Order Date': '10/14/2013', 'Order ID': '919133651', 'Ship Date': '11/4/2013', 'Units Sold': '927', 'Unit Price': '109.28', 'Unit Cost': '35.84', 'Total Revenue': '101302.56', 'Total Cost': '33223.68', 'Total Profit': '68078.88'}\n",
      "{'Region': 'Middle East and North Africa', 'Country': 'Afghanistan', 'Item Type': 'Clothes', 'Sales Channel': 'Offline', 'Order Priority': 'M', 'Order Date': '8/27/2016', 'Order ID': '579814469', 'Ship Date': '10/5/2016', 'Units Sold': '8841', 'Unit Price': '109.28', 'Unit Cost': '35.84', 'Total Revenue': '966144.48', 'Total Cost': '316861.44', 'Total Profit': '649283.04'}\n",
      "{'Region': 'Sub-Saharan Africa', 'Country': 'Ethiopia', 'Item Type': 'Baby Food', 'Sales Channel': 'Online', 'Order Priority': 'M', 'Order Date': '4/13/2015', 'Order ID': '192993152', 'Ship Date': '5/7/2015', 'Units Sold': '9817', 'Unit Price': '255.28', 'Unit Cost': '159.42', 'Total Revenue': '2506083.76', 'Total Cost': '1565026.14', 'Total Profit': '941057.62'}\n",
      "{'Region': 'Middle East and North Africa', 'Country': 'Turkey', 'Item Type': 'Office Supplies', 'Sales Channel': 'Offline', 'Order Priority': 'C', 'Order Date': '9/25/2013', 'Order ID': '557156026', 'Ship Date': '10/15/2013', 'Units Sold': '3704', 'Unit Price': '651.21', 'Unit Cost': '524.96', 'Total Revenue': '2412081.84', 'Total Cost': '1944451.84', 'Total Profit': '467630.00'}\n",
      "{'Region': 'Middle East and North Africa', 'Country': 'Oman', 'Item Type': 'Cosmetics', 'Sales Channel': 'Online', 'Order Priority': 'M', 'Order Date': '5/12/2013', 'Order ID': '741101920', 'Ship Date': '5/17/2013', 'Units Sold': '7382', 'Unit Price': '437.20', 'Unit Cost': '263.33', 'Total Revenue': '3227410.40', 'Total Cost': '1943902.06', 'Total Profit': '1283508.34'}\n"
     ]
    }
   ],
   "source": [
    "with open(\"sales_record.csv\", \"r\") as fd:\n",
    "    # use 'if' to check if file is open\n",
    "    if fd:\n",
    "        # read the first line and clean using string methods 'readline', 'replace', and 'split'\n",
    "        first_line = fd.readline()\n",
    "        header = first_line.replace(\"\\n\", \"\").split(\",\")\n",
    "        # use a 'for' loop to limit the output to 10 entries\n",
    "        for x, line in enumerate(fd):\n",
    "            # contiune cleaning lines with 'replace' and 'split'\n",
    "            line = line.replace(\"\\n\", \"\").split(\",\")\n",
    "            final_dict = return_dict_from_csv_line(header, line)\n",
    "            print(final_dict)\n",
    "            if x > 10:\n",
    "                break"
   ]
  },
  {
   "cell_type": "markdown",
   "id": "68294930",
   "metadata": {},
   "source": [
    "### 3. Read the first line and use string methods to generate a list of all the column names."
   ]
  },
  {
   "cell_type": "code",
   "execution_count": null,
   "id": "7963f1f6",
   "metadata": {},
   "outputs": [],
   "source": []
  },
  {
   "cell_type": "markdown",
   "id": "62397d7b",
   "metadata": {},
   "source": [
    "### 4. Start reading the file. Read it line by line."
   ]
  },
  {
   "cell_type": "code",
   "execution_count": null,
   "id": "1d5a875d",
   "metadata": {},
   "outputs": [],
   "source": []
  },
  {
   "cell_type": "markdown",
   "id": "9af89cda",
   "metadata": {},
   "source": [
    "### 5. Read each line and pass that line to a function, along with the list of the headers. The work of the function is to construct a dict out of these two and fill up the key:values.  Keep in mind that a missing value should result in None.\n",
    "\n"
   ]
  },
  {
   "cell_type": "code",
   "execution_count": null,
   "id": "80766ef5",
   "metadata": {},
   "outputs": [],
   "source": []
  }
 ],
 "metadata": {
  "kernelspec": {
   "display_name": "Python 3 (ipykernel)",
   "language": "python",
   "name": "python3"
  },
  "language_info": {
   "codemirror_mode": {
    "name": "ipython",
    "version": 3
   },
   "file_extension": ".py",
   "mimetype": "text/x-python",
   "name": "python",
   "nbconvert_exporter": "python",
   "pygments_lexer": "ipython3",
   "version": "3.11.4"
  }
 },
 "nbformat": 4,
 "nbformat_minor": 5
}
