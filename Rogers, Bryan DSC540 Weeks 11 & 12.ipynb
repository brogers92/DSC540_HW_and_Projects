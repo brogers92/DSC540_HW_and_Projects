{
 "cells": [
  {
   "cell_type": "markdown",
   "id": "a7f3e28d",
   "metadata": {},
   "source": [
    "## DSC540 Weeks 11 & 12: Storing Data"
   ]
  },
  {
   "cell_type": "markdown",
   "id": "9e6bb243",
   "metadata": {},
   "source": [
    "##### Bryan Rogers\n",
    "##### Bellevue University\n",
    "##### DSC540: Data Preperation\n",
    "##### 11/13/23"
   ]
  },
  {
   "cell_type": "markdown",
   "id": "6bdc3e3b",
   "metadata": {},
   "source": [
    "### 1. Data Wrangling with Python: Activity 11, page 320"
   ]
  },
  {
   "cell_type": "markdown",
   "id": "ef25643f",
   "metadata": {},
   "source": [
    "### Activity 11: Retrieving Data Correctly from Databases"
   ]
  },
  {
   "cell_type": "markdown",
   "id": "148a58a0",
   "metadata": {},
   "source": [
    "#### 1. Connect to the petsDB and check whether the connection has been successful"
   ]
  },
  {
   "cell_type": "code",
   "execution_count": 9,
   "id": "15a58e3e",
   "metadata": {},
   "outputs": [],
   "source": [
    "import sqlite3"
   ]
  },
  {
   "cell_type": "code",
   "execution_count": 17,
   "id": "ae037417",
   "metadata": {},
   "outputs": [],
   "source": [
    "conn = sqlite3.connect(\"petsdb\")"
   ]
  },
  {
   "cell_type": "code",
   "execution_count": 40,
   "id": "ff1ed7b5",
   "metadata": {},
   "outputs": [
    {
     "name": "stdout",
     "output_type": "stream",
     "text": [
      "Connection succeeded\n"
     ]
    }
   ],
   "source": [
    "# write a function that defines if it is possible to open the connection\n",
    "def is_open(db_path):\n",
    "    try:\n",
    "        cursor = sqlite3.connect(db_path)\n",
    "        cursor.close()\n",
    "        return True\n",
    "    except sqlite3.Error:\n",
    "        return False\n",
    "\n",
    "db_path = \"petsdb\"\n",
    "\n",
    "if is_open(db_path):\n",
    "    print(\"Connection succeeded\")\n",
    "else:\n",
    "    print(\"Connection failed.\")"
   ]
  },
  {
   "cell_type": "code",
   "execution_count": 41,
   "id": "b6b63df5",
   "metadata": {},
   "outputs": [
    {
     "name": "stdout",
     "output_type": "stream",
     "text": [
      "True\n"
     ]
    }
   ],
   "source": [
    "print(is_open(db_path))"
   ]
  },
  {
   "cell_type": "code",
   "execution_count": 42,
   "id": "dd4d154c",
   "metadata": {},
   "outputs": [
    {
     "name": "stdout",
     "output_type": "stream",
     "text": [
      "Connection to database\n"
     ]
    }
   ],
   "source": [
    "#  use a try/except to make a connection to the petsdb database\n",
    "try:\n",
    "    connect_db = sqlite3.connect(db_path)\n",
    "    cursor = connect_db.cursor()\n",
    "    print(\"Connection to database\")\n",
    "except:\n",
    "    print(\"Failed to connect to database.\")"
   ]
  },
  {
   "cell_type": "markdown",
   "id": "5a7b647c",
   "metadata": {},
   "source": [
    "#### 2. Find the different age groups in the persons database"
   ]
  },
  {
   "cell_type": "code",
   "execution_count": 44,
   "id": "6272d2e2",
   "metadata": {},
   "outputs": [
    {
     "name": "stdout",
     "output_type": "stream",
     "text": [
      "We have 5 people, aged 73\n"
     ]
    }
   ],
   "source": [
    "# assign SQL query to find different age groups from persons database\n",
    "age_query = \"SELECT age, COUNT(*) FROM persons GROUP BY 1\"\n",
    "\n",
    "# run the query and get the results\n",
    "cursor.execute(age_query)\n",
    "age_groups = cursor.fetchall()\n",
    "\n",
    "# print the result\n",
    "print(\"We have {} people, aged {}\".format(count, age))\n"
   ]
  },
  {
   "cell_type": "markdown",
   "id": "885f876f",
   "metadata": {},
   "source": [
    "#### 3. Find the age group that has the maximum number of people"
   ]
  },
  {
   "cell_type": "code",
   "execution_count": 24,
   "id": "a814caa4",
   "metadata": {},
   "outputs": [
    {
     "name": "stdout",
     "output_type": "stream",
     "text": [
      "The max age of people is: Age 73, and there are Count 5\n"
     ]
    }
   ],
   "source": [
    "# assign SQL query to count the max number of people for each age\n",
    "max_query = \" SELECT age, COUNT(*) AS CNT FROM persons GROUP BY 1 ORDER BY COUNT(*) DESC LIMIT 1\"\n",
    "\n",
    "# run the query and get the results\n",
    "cursor.execute(max_query)\n",
    "max_age_group = cursor.fetchone()\n",
    "\n",
    "# print the result\n",
    "print(\"The max age of people is: Age {}, and there are Count {}\".format(age, count))\n"
   ]
  },
  {
   "cell_type": "markdown",
   "id": "6e451983",
   "metadata": {},
   "source": [
    "#### 4. Find the people who do not have a last name"
   ]
  },
  {
   "cell_type": "code",
   "execution_count": 25,
   "id": "f49d63bf",
   "metadata": {},
   "outputs": [
    {
     "name": "stdout",
     "output_type": "stream",
     "text": [
      "People with no last name is: 60\n"
     ]
    }
   ],
   "source": [
    "# assign SQL query to count people who do not have a last name \n",
    "last_name_query = \"SELECT COUNT(*) FROM persons WHERE (last_name IS NULL OR last_name = '')\"\n",
    "\n",
    "# run the query and get the results\n",
    "cursor.execute(last_name_query)\n",
    "no_last_name_count = cursor.fetchone()[0]\n",
    "\n",
    "# print the result\n",
    "print(\"People with no last name is: {}\".format(no_last_name_count))\n"
   ]
  },
  {
   "cell_type": "markdown",
   "id": "d2d6417e",
   "metadata": {},
   "source": [
    "#### 5. Find out how many people have more than one pet"
   ]
  },
  {
   "cell_type": "code",
   "execution_count": 31,
   "id": "50bcd510",
   "metadata": {},
   "outputs": [
    {
     "name": "stdout",
     "output_type": "stream",
     "text": [
      "People with more than one pet: 43\n"
     ]
    }
   ],
   "source": [
    "# assign SQL query to count people with more than one pet\n",
    "multiple_pet_query = \" SELECT COUNT(*) FROM \\\n",
    "                        (SELECT COUNT(owner_id) FROM pets GROUP BY owner_id HAVING count(owner_id) >1) a\"\n",
    "\n",
    "# run the query and get the results\n",
    "cursor.execute(multiple_pet_query)\n",
    "multiple_pet_count = cursor.fetchone()[0]\n",
    "\n",
    "# print the result\n",
    "print(\"People with more than one pet: {}\".format(multiple_pet_count))\n"
   ]
  },
  {
   "cell_type": "markdown",
   "id": "a269af62",
   "metadata": {},
   "source": [
    "#### 6. Find out how many pets have received treatment"
   ]
  },
  {
   "cell_type": "code",
   "execution_count": 27,
   "id": "94324775",
   "metadata": {},
   "outputs": [
    {
     "name": "stdout",
     "output_type": "stream",
     "text": [
      "Pets that have received treatment: 36\n"
     ]
    }
   ],
   "source": [
    "# assign SQL query to count pets that have had treatment\n",
    "treatment_query = \"SELECT COUNT(*) FROM pets WHERE treatment_done = 1\"\n",
    "\n",
    "# run the query and get the results\n",
    "cursor.execute(treatment_query)\n",
    "treatment_done = cursor.fetchone()[0]\n",
    "\n",
    "# print the result\n",
    "print(\"Pets that have received treatment: {}\".format(treatment_done))\n"
   ]
  },
  {
   "cell_type": "markdown",
   "id": "31a06a22",
   "metadata": {},
   "source": [
    "#### 7. Find out how many pets have received treatment and the type of pet is known"
   ]
  },
  {
   "cell_type": "code",
   "execution_count": 30,
   "id": "0c8f922a",
   "metadata": {},
   "outputs": [
    {
     "name": "stdout",
     "output_type": "stream",
     "text": [
      "Pets that have received treatment and we know what type of pet: 16\n"
     ]
    }
   ],
   "source": [
    "# assign SQL query to count pets that have had treatment and known type of pet\n",
    "known_pet_query = \"SELECT COUNT(*) FROM pets WHERE treatment_done=1 AND pet_type IS NOT null\"\n",
    "\n",
    "# run the query and get the results\n",
    "cursor.execute(known_pet_query)\n",
    "known_pet_treatment = cursor.fetchone()[0]\n",
    "\n",
    "# print the result\n",
    "print(\"Pets that have received treatment and we know what type of pet: {}\".format(known_pet_treatment))\n"
   ]
  },
  {
   "cell_type": "markdown",
   "id": "272bb255",
   "metadata": {},
   "source": [
    "#### 8. Find out how many pets are from the city called 'east port'"
   ]
  },
  {
   "cell_type": "code",
   "execution_count": 32,
   "id": "c8c2101b",
   "metadata": {},
   "outputs": [
    {
     "name": "stdout",
     "output_type": "stream",
     "text": [
      "Pets from east port: 49\n"
     ]
    }
   ],
   "source": [
    "# assign SQL query to count pets from the city 'east port'\n",
    "city_query = \"SELECT COUNT(*) FROM pets JOIN persons ON pets.owner_id = persons.id  WHERE persons.city='east port'\"\n",
    "\n",
    "# run the query and get the results\n",
    "cursor.execute(city_query)\n",
    "east_port_pets = cursor.fetchone()[0]\n",
    "\n",
    "# print the result\n",
    "print(\"Pets from east port: {}\".format(east_port_pets))\n"
   ]
  },
  {
   "cell_type": "markdown",
   "id": "472cf6b6",
   "metadata": {},
   "source": [
    "#### 9. Find out how many pets are from the city called 'east port' and who received a treatment"
   ]
  },
  {
   "cell_type": "code",
   "execution_count": 35,
   "id": "79addd87",
   "metadata": {},
   "outputs": [
    {
     "name": "stdout",
     "output_type": "stream",
     "text": [
      "Pets from east port and received treatment: 11\n"
     ]
    }
   ],
   "source": [
    "# assign SQL query to count pets from the city 'east port' and have had treatment\n",
    "east_port_treatment_query = \"SELECT COUNT(*) FROM pets JOIN persons ON pets.owner_id = persons.id \\\n",
    "                                WHERE persons.city='east port' AND pets.treatment_done=1\"\n",
    "\n",
    "# run the query and get the results\n",
    "cursor.execute(east_port_treatment_query)\n",
    "east_port_treatment_pets = cursor.fetchone()[0]\n",
    "\n",
    "# print the result\n",
    "print(\"Pets from east port and received treatment: {}\".format(east_port_treatment_pets))"
   ]
  },
  {
   "cell_type": "code",
   "execution_count": 37,
   "id": "eea696ff",
   "metadata": {},
   "outputs": [
    {
     "name": "stdout",
     "output_type": "stream",
     "text": [
      "Connection closed.\n"
     ]
    }
   ],
   "source": [
    "# close the connection to 'petsdb'\n",
    "try:\n",
    "    connect_db.close()\n",
    "    print(\"Connection closed.\")\n",
    "except:\n",
    "    print(\"Failed to close the connection.\")"
   ]
  },
  {
   "cell_type": "code",
   "execution_count": null,
   "id": "fa514939",
   "metadata": {},
   "outputs": [],
   "source": []
  }
 ],
 "metadata": {
  "kernelspec": {
   "display_name": "Python 3 (ipykernel)",
   "language": "python",
   "name": "python3"
  },
  "language_info": {
   "codemirror_mode": {
    "name": "ipython",
    "version": 3
   },
   "file_extension": ".py",
   "mimetype": "text/x-python",
   "name": "python",
   "nbconvert_exporter": "python",
   "pygments_lexer": "ipython3",
   "version": "3.11.4"
  }
 },
 "nbformat": 4,
 "nbformat_minor": 5
}
