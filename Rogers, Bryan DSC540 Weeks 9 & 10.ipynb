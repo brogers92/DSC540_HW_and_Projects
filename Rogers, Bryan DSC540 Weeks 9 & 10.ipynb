{
 "cells": [
  {
   "cell_type": "markdown",
   "id": "80ef0888",
   "metadata": {},
   "source": [
    "## DSC540 Weeks 9 & 10: Advanced Data Gathering and Visualization"
   ]
  },
  {
   "cell_type": "markdown",
   "id": "7e1c329f",
   "metadata": {},
   "source": [
    "##### Bryan Rogers\n",
    "##### Bellevue University\n",
    "##### DSC540: Data Preperation\n",
    "##### 10/23/23"
   ]
  },
  {
   "cell_type": "markdown",
   "id": "3607924c",
   "metadata": {},
   "source": [
    "### 1. Data Wrangling with Python: Activity 9, page 294"
   ]
  },
  {
   "cell_type": "markdown",
   "id": "aa69c918",
   "metadata": {},
   "source": [
    "### Activity 9: Extracting the Top 100 eBooks from Gutenberg"
   ]
  },
  {
   "cell_type": "markdown",
   "id": "9d317696",
   "metadata": {},
   "source": [
    "#### 1. Import the necessary libraries, including regex and beautifulsoup"
   ]
  },
  {
   "cell_type": "code",
   "execution_count": 82,
   "id": "f40ae759",
   "metadata": {},
   "outputs": [],
   "source": [
    "import urllib.request, urllib.parse, urllib.error\n",
    "import requests\n",
    "from bs4 import BeautifulSoup\n",
    "import ssl\n",
    "import re"
   ]
  },
  {
   "cell_type": "markdown",
   "id": "8e97c7ab",
   "metadata": {},
   "source": [
    "#### 2. Check the SSL certificate"
   ]
  },
  {
   "cell_type": "code",
   "execution_count": 83,
   "id": "f8ed9044",
   "metadata": {},
   "outputs": [],
   "source": [
    "# create an SSL context object named 'ctx'\n",
    "ctx = ssl.create_default_context()\n",
    "# disable hostname checking within the SSL context\n",
    "ctx.check_hostname = False\n",
    "# set the verification mode of the SSL context to CERT_NONE\n",
    "ctx.verify_mode = ssl.CERT_NONE"
   ]
  },
  {
   "cell_type": "markdown",
   "id": "2917bbca",
   "metadata": {},
   "source": [
    "#### 3. Read the HTML from the URL"
   ]
  },
  {
   "cell_type": "code",
   "execution_count": 84,
   "id": "d2519180",
   "metadata": {},
   "outputs": [],
   "source": [
    "# read the HTML from the URL and generate a GET request into a 'response' variable\n",
    "top100url = 'https://www.gutenberg.org/browse/scores/top'\n",
    "response = requests.get(top100url)"
   ]
  },
  {
   "cell_type": "markdown",
   "id": "6f89e585",
   "metadata": {},
   "source": [
    "#### 4. Write a small function to check the status of the web request."
   ]
  },
  {
   "cell_type": "code",
   "execution_count": 85,
   "id": "aed42bce",
   "metadata": {},
   "outputs": [],
   "source": [
    "# create a function to check the status of the HTTP web request \n",
    "def status_check(r):\n",
    "    if r.status_code==200:\n",
    "        print(\"Correct\")\n",
    "        return 1\n",
    "    else:\n",
    "        print(\"Incorrect\")\n",
    "        return -1"
   ]
  },
  {
   "cell_type": "code",
   "execution_count": 86,
   "id": "98f4719e",
   "metadata": {},
   "outputs": [
    {
     "name": "stdout",
     "output_type": "stream",
     "text": [
      "Correct\n"
     ]
    },
    {
     "data": {
      "text/plain": [
       "1"
      ]
     },
     "execution_count": 86,
     "metadata": {},
     "output_type": "execute_result"
    }
   ],
   "source": [
    "status_check(response)"
   ]
  },
  {
   "cell_type": "markdown",
   "id": "f0e0ff15",
   "metadata": {},
   "source": [
    "#### 5. Decode the response and pass this on to BeautifulSoup for HTML parsing."
   ]
  },
  {
   "cell_type": "code",
   "execution_count": 87,
   "id": "1afd5fb5",
   "metadata": {},
   "outputs": [],
   "source": [
    "# decode the response of the HTTP into a 'contents' variable\n",
    "contents = response.content.decode(response.encoding)"
   ]
  },
  {
   "cell_type": "code",
   "execution_count": 88,
   "id": "27e96f5d",
   "metadata": {},
   "outputs": [],
   "source": [
    "# create a BeautifulSoup object that parses the HTTP contents \n",
    "soup = BeautifulSoup(contents, 'html.parser')"
   ]
  },
  {
   "cell_type": "markdown",
   "id": "46b6334a",
   "metadata": {},
   "source": [
    "#### 6. Find all the href tags and store them in the list of links. Check what the list looks like – print the first 30 elements."
   ]
  },
  {
   "cell_type": "code",
   "execution_count": 89,
   "id": "a74030d1",
   "metadata": {},
   "outputs": [],
   "source": [
    "# create an empty list of links to store all of the href tags\n",
    "list_links=[]"
   ]
  },
  {
   "cell_type": "code",
   "execution_count": 90,
   "id": "0d8e83e7",
   "metadata": {},
   "outputs": [],
   "source": [
    "# use a 'for' loop to find all of the href tags and store them in the list created above\n",
    "for link in soup.find_all('a'):\n",
    "    \n",
    "    list_links.append(link.get('href'))"
   ]
  },
  {
   "cell_type": "code",
   "execution_count": 91,
   "id": "eec659e5",
   "metadata": {},
   "outputs": [
    {
     "data": {
      "text/plain": [
       "['/',\n",
       " '/about/',\n",
       " '/about/',\n",
       " '/policy/collection_development.html',\n",
       " '/about/contact_information.html',\n",
       " '/about/background/',\n",
       " '/policy/permission.html',\n",
       " '/policy/privacy_policy.html',\n",
       " '/policy/terms_of_use.html',\n",
       " '/ebooks/',\n",
       " '/ebooks/',\n",
       " '/ebooks/bookshelf/',\n",
       " '/browse/scores/top',\n",
       " '/ebooks/offline_catalogs.html',\n",
       " '/help/',\n",
       " '/help/',\n",
       " '/help/copyright.html',\n",
       " '/help/errata.html',\n",
       " '/help/file_formats.html',\n",
       " '/help/faq.html',\n",
       " '/policy/',\n",
       " '/help/public_domain_ebook_submission.html',\n",
       " '/help/submitting_your_own_work.html',\n",
       " '/help/mobile.html',\n",
       " '/attic/',\n",
       " '/donate/',\n",
       " '/donate/',\n",
       " '#books-last1',\n",
       " '#authors-last1',\n",
       " '#books-last7']"
      ]
     },
     "execution_count": 91,
     "metadata": {},
     "output_type": "execute_result"
    }
   ],
   "source": [
    "# print the first 30 elements of the list links \n",
    "list_links[:30]"
   ]
  },
  {
   "cell_type": "markdown",
   "id": "044da23a",
   "metadata": {},
   "source": [
    "#### 7. Use a regular expression to find the numeric digits in these links. These are the file numbers for the top 100 eBooks. "
   ]
  },
  {
   "cell_type": "markdown",
   "id": "23dacade",
   "metadata": {},
   "source": [
    "#### 8. Initialize the empty list to hold the file numbers over an appropriate range and use regex to find the numeric digits in the link href string. Use the findall method."
   ]
  },
  {
   "cell_type": "code",
   "execution_count": 92,
   "id": "4b2189a6",
   "metadata": {},
   "outputs": [],
   "source": [
    "# create an empty list called 'booknumbers'\n",
    "booknumbers = []"
   ]
  },
  {
   "cell_type": "code",
   "execution_count": 95,
   "id": "a75c4898",
   "metadata": {},
   "outputs": [],
   "source": [
    "# create a 'for' loop to generate a regular expression to find the numeric digits in the links \n",
    "for i in range(19,119):\n",
    "    link = list_links[i]\n",
    "    link = link.strip()\n",
    "     # regular expression to find the numeric digits in the link string\n",
    "    n = re.findall('[0-9]+',link)\n",
    "    if len(n)==1:\n",
    "        # append the files cast as integers\n",
    "        booknumbers.append(int(n[0]))"
   ]
  },
  {
   "cell_type": "code",
   "execution_count": 96,
   "id": "dce9f77a",
   "metadata": {},
   "outputs": [
    {
     "name": "stdout",
     "output_type": "stream",
     "text": [
      "\n",
      "The file numbers for the top 100 ebooks on Gutenberg are:\n",
      "---------------------------------------------------------\n",
      "[1, 1, 7, 7, 30, 30, 33283, 84, 1342, 1513, 25344, 345, 11, 64317, 46, 174, 2542, 5200, 43, 844, 1080, 1952, 98, 1260, 1661, 1400, 72001, 2701, 2591, 72004, 1232, 72005, 2600, 76, 2554, 219, 6130, 41, 23, 72003, 28054, 71999, 408, 72002, 55, 205, 1727, 3207, 1399, 4300, 45, 16, 41445, 768, 16328, 2148, 27827, 100, 3825, 72006, 5740, 15399, 2814, 42324, 1184, 140, 996, 2000, 67098, 158, 74, 244, 72000, 932, 120, 4363, 2852, 35, 600, 10007, 36, 161, 514, 1250, 1497, 30254, 1251, 215, 7370, 8492, 203, 8800]\n"
     ]
    }
   ],
   "source": [
    "print (\"\\nThe file numbers for the top 100 ebooks on Gutenberg are:\\n\"+\"-\"*57)\n",
    "print(booknumbers)"
   ]
  },
  {
   "cell_type": "markdown",
   "id": "af98a4c0",
   "metadata": {},
   "source": [
    "#### 9. What does the soup object's text look like? Use the .text method and print only the first 2,000 characters (do not print the whole thing, as it is too long)."
   ]
  },
  {
   "cell_type": "code",
   "execution_count": 97,
   "id": "600becdd",
   "metadata": {},
   "outputs": [
    {
     "name": "stdout",
     "output_type": "stream",
     "text": [
      "\n",
      "\n",
      "\n",
      "\n",
      "Top 100 | Project Gutenberg\n",
      "\n",
      "\n",
      "\n",
      "\n",
      "\n",
      "\n",
      "\n",
      "\n",
      "\n",
      "\n",
      "\n",
      "\n",
      "\n",
      "\n",
      "\n",
      "\n",
      "\n",
      "\n",
      "\n",
      "\n",
      "\n",
      "\n",
      "\n",
      "\n",
      "\n",
      "\n",
      "\n",
      "Menu▾\n",
      "\n",
      "\n",
      "\n",
      "About\n",
      "          ▾\n",
      "\n",
      "▾\n",
      "\n",
      "\n",
      "About Project Gutenberg\n",
      "Collection Development\n",
      "Contact Us\n",
      "History & Philosophy\n",
      "Permissions & License\n",
      "Privacy Policy\n",
      "Terms of Use\n",
      "\n",
      "\n",
      "\n",
      "Search and Browse\n",
      "      \t  ▾\n",
      "\n",
      "▾\n",
      "\n",
      "\n",
      "Book Search\n",
      "Bookshelves\n",
      "Frequently Downloaded\n",
      "Offline Catalogs\n",
      "\n",
      "\n",
      "\n",
      "Help\n",
      "          ▾\n",
      "\n",
      "▾\n",
      "\n",
      "\n",
      "All help topics →\n",
      "Copyright How-To\n",
      "Errata, Fixes and Bug Reports\n",
      "File Formats\n",
      "Frequently Asked Questions\n",
      "Policies →\n",
      "Public Domain eBook Submission\n",
      "Submitting Your Own Work\n",
      "Tablets, Phones and eReaders\n",
      "The Attic →\n",
      "\n",
      "\n",
      "Donate\n",
      "\n",
      "\n",
      "\n",
      "\n",
      "\n",
      "\n",
      "\n",
      "\n",
      "\n",
      "\n",
      "Donation\n",
      "\n",
      "\n",
      "\n",
      "\n",
      "\n",
      "\n",
      "\n",
      "Frequently Viewed or Downloaded\n",
      "These listings are based on the number of times each eBook gets downloaded.\n",
      "      Multiple downloads from the same Internet address on the same day count as one download, and addresses that download more than 100 eBooks in a day are considered robots and are not counted.\n",
      "\n",
      "Downloaded Books\n",
      "2023-11-02219041\n",
      "last 7 days1464637\n",
      "last 30 days6507426\n",
      "\n",
      "\n",
      "\n",
      "Top 100 EBooks yesterday\n",
      "Top 100 Authors yesterday\n",
      "Top 100 EBooks last 7 days\n",
      "Top 100 Authors last 7 days\n",
      "Top 100 EBooks last 30 days\n",
      "Top 100 Authors last 30 days\n",
      "\n",
      "\n",
      "Top 100 EBooks yesterday\n",
      "\n",
      "Calculus Made Easy by Silvanus P.  Thompson (9060)\n",
      "Frankenstein; Or, The Modern Prometheus by Mary Wollstonecraft Shelley (4230)\n",
      "Pride and Prejudice by Jane Austen (1996)\n",
      "Romeo and Juliet by William Shakespeare (1869)\n",
      "The Scarlet Letter by Nathaniel Hawthorne (1517)\n",
      "Dracula by Bram Stoker (1191)\n",
      "Alice's Adventures in Wonderland by Lewis Carroll (1184)\n",
      "The Great Gatsby by F. Scott  Fitzgerald (1133)\n",
      "A Christmas Carol in Prose; Being a Ghost Story of Christmas by Charles Dickens (1038)\n",
      "The Picture of Dorian Gray by Oscar Wilde (1009)\n",
      "A Doll's House : a play by Henrik Ibsen (960)\n",
      "Metamorphosis by Franz Kafka (956)\n",
      "The Strange Case of Dr. Jekyll and Mr. Hyde by Robert Louis Stevenson (861)\n",
      "The Importance of Being Earnest: A Trivial Comedy for Serious People by Oscar Wilde (805)\n",
      "A Modest Proposal by Jonathan Swift (787)\n",
      "The Yell\n"
     ]
    }
   ],
   "source": [
    "# print a soup object that only shows the first 2000 characters\n",
    "print(soup.text[:2000])"
   ]
  },
  {
   "cell_type": "markdown",
   "id": "4183ffe5",
   "metadata": {},
   "source": [
    "#### 10. Search in the extracted text (using a regular expression) from the soup object to find the names of the top 100 eBooks (yesterday's ranking)."
   ]
  },
  {
   "cell_type": "code",
   "execution_count": 98,
   "id": "46339e89",
   "metadata": {},
   "outputs": [],
   "source": [
    "# create an temporary empty list to store the names of the top 100 ebooks\n",
    "list_titles_temp=[]"
   ]
  },
  {
   "cell_type": "markdown",
   "id": "69fb1346",
   "metadata": {},
   "source": [
    "#### 11. Create a starting index. It should point at the text Top 100 Ebooks yesterday. Use the splitlines method of soup.text. It splits the lines of text of the soup object."
   ]
  },
  {
   "cell_type": "code",
   "execution_count": 99,
   "id": "7b7bdb88",
   "metadata": {},
   "outputs": [],
   "source": [
    "# create an index to start the search for text from the extracted text of the soup object and assign it to the variable 'start_index'\n",
    "# use splitlines to split of the lines into a list\n",
    "start_index = soup.text.splitlines().index('Top 100 EBooks yesterday')"
   ]
  },
  {
   "cell_type": "markdown",
   "id": "8b89b917",
   "metadata": {},
   "source": [
    "#### 12. Loop 1-100 to add the strings of the next 100 lines to this temporary list. Hint: use the splitlines method. "
   ]
  },
  {
   "cell_type": "code",
   "execution_count": 101,
   "id": "519532a7",
   "metadata": {},
   "outputs": [],
   "source": [
    "# create a 'for' loop to add the strings to the temp list and use splitlines\n",
    "for i in range(100):\n",
    "    list_titles_temp.append(soup.text.splitlines()[start_index+2+i])"
   ]
  },
  {
   "cell_type": "markdown",
   "id": "72162fe0",
   "metadata": {},
   "source": [
    "#### 13. Use a regular expression to extract only text from the name strings and append it to an empty list. Use match and span to find the indices and use them."
   ]
  },
  {
   "cell_type": "code",
   "execution_count": 102,
   "id": "c8a9ccf9",
   "metadata": {},
   "outputs": [],
   "source": [
    "# create a empty list again to store the list titles\n",
    "list_titles=[]"
   ]
  },
  {
   "cell_type": "code",
   "execution_count": 104,
   "id": "4eb4339c",
   "metadata": {},
   "outputs": [],
   "source": [
    "# create a 'for' loop to generate a regular expression to extract text from the name strings and adpend to the empty list\n",
    "for i in range(100):\n",
    "    # use .match and .span to find the indices in the list\n",
    "    id1,id2=re.match('^[a-zA-Z ]*',list_titles_temp[i]).span()\n",
    "    list_titles.append(list_titles_temp[i][id1:id2])"
   ]
  },
  {
   "cell_type": "code",
   "execution_count": 105,
   "id": "1057f19b",
   "metadata": {},
   "outputs": [
    {
     "name": "stdout",
     "output_type": "stream",
     "text": [
      "Top \n",
      "Top \n",
      "Top \n",
      "Top \n",
      "\n",
      "\n",
      "Top \n",
      "\n",
      "Calculus Made Easy by Silvanus P\n",
      "Frankenstein\n",
      "Pride and Prejudice by Jane Austen \n",
      "Romeo and Juliet by William Shakespeare \n",
      "The Scarlet Letter by Nathaniel Hawthorne \n",
      "Dracula by Bram Stoker \n",
      "Alice\n",
      "The Great Gatsby by F\n",
      "A Christmas Carol in Prose\n",
      "The Picture of Dorian Gray by Oscar Wilde \n",
      "A Doll\n",
      "Metamorphosis by Franz Kafka \n",
      "The Strange Case of Dr\n",
      "The Importance of Being Earnest\n",
      "A Modest Proposal by Jonathan Swift \n",
      "The Yellow Wallpaper by Charlotte Perkins Gilman \n",
      "A Tale of Two Cities by Charles Dickens \n",
      "Jane Eyre\n",
      "The Adventures of Sherlock Holmes by Arthur Conan Doyle \n",
      "Great Expectations by Charles Dickens \n",
      "Anarchy by Robert LeFevre \n",
      "Moby Dick\n",
      "Grimms\n",
      "H\n",
      "The Prince by Niccol\n",
      "Punctuation personified \n",
      "War and Peace by graf Leo Tolstoy \n",
      "Adventures of Huckleberry Finn by Mark Twain \n",
      "Crime and Punishment by Fyodor Dostoyevsky \n",
      "Heart of Darkness by Joseph Conrad \n",
      "The Iliad by Homer \n",
      "The Legend of Sleepy Hollow by Washington Irving \n",
      "Narrative of the Life of Frederick Douglass\n",
      "Ending the depression through planned obsolescence by Bernard London \n",
      "The Brothers Karamazov by Fyodor Dostoyevsky \n",
      "Stars of the southern skies by M\n",
      "The Souls of Black Folk by W\n",
      "Christmas in Chicago by Fanny Butcher \n",
      "The Wonderful Wizard of Oz by L\n",
      "Walden\n",
      "The Odyssey by Homer \n",
      "Leviathan by Thomas Hobbes \n",
      "Anna Karenina by graf Leo Tolstoy \n",
      "Ulysses by James Joyce \n",
      "Anne of Green Gables by L\n",
      "Peter Pan by J\n",
      "Frankenstein\n",
      "Wuthering Heights by Emily Bront\n",
      "Beowulf\n",
      "The Works of Edgar Allan Poe \n",
      "The Kama Sutra of Vatsyayana by Vatsyayana \n",
      "The Complete Works of William Shakespeare by William Shakespeare \n",
      "Pygmalion by Bernard Shaw \n",
      "The useful trees of northern Nigeria by Hugh Vandervaes Lely \n",
      "Tractatus Logico\n",
      "The Interesting Narrative of the Life of Olaudah Equiano\n",
      "Dubliners by James Joyce \n",
      "Frankenstein\n",
      "The Count of Monte Cristo by Alexandre Dumas and Auguste Maquet \n",
      "The Jungle by Upton Sinclair \n",
      "Don Quixote by Miguel de Cervantes Saavedra \n",
      "Don Quijote by Miguel de Cervantes Saavedra \n",
      "Winnie\n",
      "Emma by Jane Austen \n",
      "The Adventures of Tom Sawyer\n",
      "A Study in Scarlet by Arthur Conan Doyle \n",
      "Neither Jew nor Greek \n",
      "The Fall of the House of Usher by Edgar Allan Poe \n",
      "Treasure Island by Robert Louis Stevenson \n",
      "Beyond Good and Evil by Friedrich Wilhelm Nietzsche \n",
      "The Hound of the Baskervilles by Arthur Conan Doyle \n",
      "The Time Machine by H\n",
      "Notes from the Underground by Fyodor Dostoyevsky \n",
      "Carmilla by Joseph Sheridan Le Fanu \n",
      "The War of the Worlds by H\n",
      "Sense and Sensibility by Jane Austen \n",
      "Little Women by Louisa May Alcott \n",
      "Anthem by Ayn Rand \n",
      "The Republic by Plato \n",
      "The Romance of Lust\n",
      "Le Morte d\n",
      "The call of the wild by Jack London \n",
      "Second Treatise of Government by John Locke \n",
      "The King in Yellow by Robert W\n",
      "Uncle Tom\n",
      "The divine comedy by Dante Alighieri \n",
      "The Tempest by William Shakespeare \n",
      "Mosses from an old manse by Nathaniel Hawthorne \n",
      "Meditations by Emperor of Rome Marcus Aurelius \n",
      "Autobiography of Benjamin Franklin by Benjamin Franklin \n",
      "Nobody\n",
      "Thus Spake Zarathustra\n"
     ]
    }
   ],
   "source": [
    "# print the results of the loop and regular expression\n",
    "for l in list_titles:\n",
    "    print(l)"
   ]
  },
  {
   "cell_type": "markdown",
   "id": "d85e95de",
   "metadata": {},
   "source": [
    "### 2. Data Wrangling with Python: Activity 10, page 295"
   ]
  },
  {
   "cell_type": "markdown",
   "id": "371e31f5",
   "metadata": {},
   "source": [
    "### Activity 10: Build your own movie database by reading from an API"
   ]
  },
  {
   "cell_type": "markdown",
   "id": "0216e58d",
   "metadata": {},
   "source": [
    "#### 1. Import urllib.request, urllib.parse, urllib.error, and json."
   ]
  },
  {
   "cell_type": "code",
   "execution_count": 106,
   "id": "a7379dfb",
   "metadata": {},
   "outputs": [],
   "source": [
    "# import the packages\n",
    "import urllib.request, urllib.parse, urllib.error\n",
    "import requests\n",
    "import os\n",
    "import json"
   ]
  },
  {
   "cell_type": "markdown",
   "id": "016c6511",
   "metadata": {},
   "source": [
    "#### 2. Load the secret API key (you have to get one from the OMDb website and use that; it has a daily limit of 1,000) from a JSON file stored in the same folder in a variable, by using json.loads."
   ]
  },
  {
   "cell_type": "markdown",
   "id": "a5ba0bf9",
   "metadata": {},
   "source": [
    "I created a .json file and named it 'OMDB_API.json' instead of 'APIkeys.json' "
   ]
  },
  {
   "cell_type": "markdown",
   "id": "4786cf10",
   "metadata": {},
   "source": [
    "#### 3. Obtain a key and store it in JSON as APIkeys.json."
   ]
  },
  {
   "cell_type": "markdown",
   "id": "fceb5b16",
   "metadata": {},
   "source": [
    "I obtained an api key for the OMDB website but I will not ad it here due to privacy and standard code practice. "
   ]
  },
  {
   "cell_type": "markdown",
   "id": "cb15adb6",
   "metadata": {},
   "source": [
    "#### 4. Open the APIkeys.json file."
   ]
  },
  {
   "cell_type": "code",
   "execution_count": 107,
   "id": "8753bb53",
   "metadata": {},
   "outputs": [],
   "source": [
    "# use with open to open the OMDB_API.json file \n",
    "with open('OMDB_API.json') as file:\n",
    "    keys = json.load(file)\n",
    "    OMDB_API = keys['api_key']"
   ]
  },
  {
   "cell_type": "markdown",
   "id": "c5a875ee",
   "metadata": {},
   "source": [
    "#### 5. Assign the OMDb portal (http://www.omdbapi.com/?) as a string to a variable."
   ]
  },
  {
   "cell_type": "code",
   "execution_count": 108,
   "id": "39e614e2",
   "metadata": {},
   "outputs": [],
   "source": [
    "# create a variable called url and apikey and assign the website url as a string to said variable\n",
    "url = \"http://www.omdbapi.com/?\""
   ]
  },
  {
   "cell_type": "markdown",
   "id": "4cd9f4df",
   "metadata": {},
   "source": [
    "#### 6. Create a variable called apikey with the last portion of the URL (&apikey=secretapikey), where secretapikey is your own API key."
   ]
  },
  {
   "cell_type": "code",
   "execution_count": 109,
   "id": "2cf456bb",
   "metadata": {},
   "outputs": [],
   "source": [
    "# create a variable with the end of the url and input the api_key variable that is the api key from the JSON file\n",
    "apikey = f\"&apikey={api_key}\""
   ]
  },
  {
   "cell_type": "markdown",
   "id": "43e1c5ee",
   "metadata": {},
   "source": [
    "#### 7. Write a utility function called print_json to print the movie data from a JSON file (which we will get from the portal)."
   ]
  },
  {
   "cell_type": "code",
   "execution_count": 110,
   "id": "40df3136",
   "metadata": {},
   "outputs": [],
   "source": [
    "# define a function the prints out all of the data from the API \n",
    "# and assign all of the columns to a list containing the columns with the movie data\n",
    "def print_json(json_data):\n",
    "    list_keys=['Title', 'Year', 'Rated', 'Released', 'Runtime', 'Genre', 'Director', 'Writer', \n",
    "               'Actors', 'Plot', 'Language', 'Country', 'Awards', 'Ratings', \n",
    "                'Metascore', 'imdbRating', 'imdbVotes', 'imdbID']\n",
    "    # add a for loop to add movie titles as added by user input and add a boarder for an aesthetic look \n",
    "    print(\"-\"*50)\n",
    "    for k in list_keys:\n",
    "        if k in list(json_data.keys()):\n",
    "            print(f\"{k}: {json_data[k]}\")\n",
    "    print(\"-\"*50)"
   ]
  },
  {
   "cell_type": "markdown",
   "id": "9ef402fc",
   "metadata": {},
   "source": [
    "#### 8. Write a utility function to download a poster of the movie based on the information from the JSON dataset and save it in your local folder. Use the os module. The poster data is stored in the JSON key Poster. Use the Python command to open a file and write the poster data. Close the file after you're done. This function will save the poster data as an image file."
   ]
  },
  {
   "cell_type": "code",
   "execution_count": 111,
   "id": "3fc7a7bb",
   "metadata": {},
   "outputs": [],
   "source": [
    "# define a function that gives the user an option to download a movie poster based on the API and JSON data \n",
    "def save_poster(json_data):\n",
    "    title = json_data['Title']\n",
    "    poster_url = json_data['Poster']\n",
    "    # split the poster based off of the url by '.' and assign the last string to a variable called poster_file_extention\n",
    "    poster_file_extension = poster_url.split('.')[-1]\n",
    "    # use urllib.request to  read the image file of the poster from web\n",
    "    poster_data = urllib.request.urlopen(poster_url).read()\n",
    "        \n",
    "    savelocation=os.getcwd()+'\\\\'+'Posters'+'\\\\'\n",
    "    # create a new directory if there not an existing directory\n",
    "    if not os.path.isdir(savelocation):\n",
    "        os.mkdir(savelocation)\n",
    "    \n",
    "    filename = savelocation+str(title)+'.'+poster_file_extension\n",
    "    f = open(filename,'wb')\n",
    "    f.write(poster_data)\n",
    "    f.close()"
   ]
  },
  {
   "cell_type": "markdown",
   "id": "b0b0796e",
   "metadata": {},
   "source": [
    "#### 9. Write a utility function called search_movie to search for a movie by its name, print the downloaded JSON data, and save the movie poster in the local folder. Use a try-except loop for this. Use the previously created serviceurl and apikey variables. You have to pass on a dictionary with a key, t, and the movie name as the corresponding value to the urllib.parse.urlencode() function and then add the serviceurl and apikey to the output of the function to construct the full URL. This URL will be used to access the data. The JSON data has a key called Response. If it is True, that means the read was successful. Check this before processing the data. If it's not successful, then print the JSON key Error, which will contain the appropriate error message returned by the movie database."
   ]
  },
  {
   "cell_type": "code",
   "execution_count": 112,
   "id": "fd4ff7c6",
   "metadata": {},
   "outputs": [],
   "source": [
    "# define a function to allow the user to search for a movie of their chooseing and provide all the data from the JSON file with the API key\n",
    "def search_movie(title):\n",
    "    # create an try/except block using the serviceurl and apikey variables \n",
    "    try:\n",
    "        # pass a dictionary with 'key', 't', and the movie title as a string value and parse it into the url\n",
    "        url = serviceurl + urllib.parse.urlencode({'t': str(title)})+apikey\n",
    "        print(f'Retrieving the data of \"{title}\" now... ')\n",
    "        print(url)\n",
    "        # use the url to access and provide the output of the data\n",
    "        uh = urllib.request.urlopen(url)\n",
    "        data = uh.read()\n",
    "        json_data=json.loads(data)\n",
    "        # if the user input is correct, the response key will provide the output of the data asked for\n",
    "        if json_data['Response']=='True':\n",
    "            print_json(json_data)\n",
    "       \n",
    "        else:\n",
    "            print(\"Error encountered: \",json_data['Error'])\n",
    "     # if the response is not in the dataset, print an error that states Movie not found\n",
    "    except urllib.error.URLError as e:\n",
    "        print(f\"ERROR: {e.reason}\")"
   ]
  },
  {
   "cell_type": "markdown",
   "id": "118f3450",
   "metadata": {},
   "source": [
    "#### 10. Test the search_movie function by entering Titanic."
   ]
  },
  {
   "cell_type": "code",
   "execution_count": 113,
   "id": "8c827bd2",
   "metadata": {},
   "outputs": [
    {
     "name": "stdout",
     "output_type": "stream",
     "text": [
      "Retrieving the data of \"Titanic\" now... \n",
      "http://www.omdbapi.com/?t=Titanic&apikey=a6f72b36\n",
      "--------------------------------------------------\n",
      "Title: Titanic\n",
      "Year: 1997\n",
      "Rated: PG-13\n",
      "Released: 19 Dec 1997\n",
      "Runtime: 194 min\n",
      "Genre: Drama, Romance\n",
      "Director: James Cameron\n",
      "Writer: James Cameron\n",
      "Actors: Leonardo DiCaprio, Kate Winslet, Billy Zane\n",
      "Plot: A seventeen-year-old aristocrat falls in love with a kind but poor artist aboard the luxurious, ill-fated R.M.S. Titanic.\n",
      "Language: English, Swedish, Italian, French\n",
      "Country: United States, Mexico\n",
      "Awards: Won 11 Oscars. 126 wins & 83 nominations total\n",
      "Ratings: [{'Source': 'Internet Movie Database', 'Value': '7.9/10'}, {'Source': 'Rotten Tomatoes', 'Value': '88%'}, {'Source': 'Metacritic', 'Value': '75/100'}]\n",
      "Metascore: 75\n",
      "imdbRating: 7.9\n",
      "imdbVotes: 1,248,724\n",
      "imdbID: tt0120338\n",
      "--------------------------------------------------\n"
     ]
    }
   ],
   "source": [
    "search_movie(\"Titanic\")"
   ]
  },
  {
   "cell_type": "markdown",
   "id": "55e79c4e",
   "metadata": {},
   "source": [
    "#### 11. Test the search_movie function by entering \"Random_error\" (obviously, this will not be found, and you should be able to check whether your error catching code is working properly)."
   ]
  },
  {
   "cell_type": "code",
   "execution_count": 114,
   "id": "ce06422a",
   "metadata": {},
   "outputs": [
    {
     "name": "stdout",
     "output_type": "stream",
     "text": [
      "Retrieving the data of \"Random_error\" now... \n",
      "http://www.omdbapi.com/?t=Random_error&apikey=a6f72b36\n",
      "Error encountered:  Movie not found!\n"
     ]
    }
   ],
   "source": [
    "search_movie(\"Random_error\")"
   ]
  },
  {
   "cell_type": "code",
   "execution_count": 115,
   "id": "72635f75",
   "metadata": {},
   "outputs": [
    {
     "name": "stdout",
     "output_type": "stream",
     "text": [
      "Retrieving the data of \"Star Wars Episode III\" now... \n",
      "http://www.omdbapi.com/?t=Star+Wars+Episode+III&apikey=a6f72b36\n",
      "--------------------------------------------------\n",
      "Title: Star Wars: Episode III - Revenge of the Sith\n",
      "Year: 2005\n",
      "Rated: PG-13\n",
      "Released: 19 May 2005\n",
      "Runtime: 140 min\n",
      "Genre: Action, Adventure, Fantasy\n",
      "Director: George Lucas\n",
      "Writer: George Lucas, John Ostrander, Jan Duursema\n",
      "Actors: Hayden Christensen, Natalie Portman, Ewan McGregor\n",
      "Plot: Three years into the Clone Wars, Obi-Wan pursues a new threat, while Anakin is lured by Chancellor Palpatine into a sinister plot to rule the galaxy.\n",
      "Language: English\n",
      "Country: United States, Italy, Switzerland, Thailand\n",
      "Awards: Nominated for 1 Oscar. 29 wins & 64 nominations total\n",
      "Ratings: [{'Source': 'Internet Movie Database', 'Value': '7.6/10'}, {'Source': 'Rotten Tomatoes', 'Value': '79%'}, {'Source': 'Metacritic', 'Value': '68/100'}]\n",
      "Metascore: 68\n",
      "imdbRating: 7.6\n",
      "imdbVotes: 825,264\n",
      "imdbID: tt0121766\n",
      "--------------------------------------------------\n"
     ]
    }
   ],
   "source": [
    "search_movie(\"Star Wars Episode III\")"
   ]
  },
  {
   "cell_type": "markdown",
   "id": "e9d9eab0",
   "metadata": {},
   "source": [
    "### 3. Connect to an API of your choice and do a simple data pull - you can use any API - except the API you have selected for your project."
   ]
  },
  {
   "cell_type": "markdown",
   "id": "3d599ab0",
   "metadata": {},
   "source": [
    "I will be attempting to connect to a 'Star Wars' API to do a simple data pull and GET request for the Planets database within the 'Star Wars' API \n",
    "\n",
    "https://swapi.dev/ "
   ]
  },
  {
   "cell_type": "code",
   "execution_count": 116,
   "id": "a8ed86c2",
   "metadata": {},
   "outputs": [
    {
     "name": "stdout",
     "output_type": "stream",
     "text": [
      "{'count': 60, 'next': 'https://swapi.dev/api/planets/?page=2', 'previous': None, 'results': [{'name': 'Tatooine', 'rotation_period': '23', 'orbital_period': '304', 'diameter': '10465', 'climate': 'arid', 'gravity': '1 standard', 'terrain': 'desert', 'surface_water': '1', 'population': '200000', 'residents': ['https://swapi.dev/api/people/1/', 'https://swapi.dev/api/people/2/', 'https://swapi.dev/api/people/4/', 'https://swapi.dev/api/people/6/', 'https://swapi.dev/api/people/7/', 'https://swapi.dev/api/people/8/', 'https://swapi.dev/api/people/9/', 'https://swapi.dev/api/people/11/', 'https://swapi.dev/api/people/43/', 'https://swapi.dev/api/people/62/'], 'films': ['https://swapi.dev/api/films/1/', 'https://swapi.dev/api/films/3/', 'https://swapi.dev/api/films/4/', 'https://swapi.dev/api/films/5/', 'https://swapi.dev/api/films/6/'], 'created': '2014-12-09T13:50:49.641000Z', 'edited': '2014-12-20T20:58:18.411000Z', 'url': 'https://swapi.dev/api/planets/1/'}, {'name': 'Alderaan', 'rotation_period': '24', 'orbital_period': '364', 'diameter': '12500', 'climate': 'temperate', 'gravity': '1 standard', 'terrain': 'grasslands, mountains', 'surface_water': '40', 'population': '2000000000', 'residents': ['https://swapi.dev/api/people/5/', 'https://swapi.dev/api/people/68/', 'https://swapi.dev/api/people/81/'], 'films': ['https://swapi.dev/api/films/1/', 'https://swapi.dev/api/films/6/'], 'created': '2014-12-10T11:35:48.479000Z', 'edited': '2014-12-20T20:58:18.420000Z', 'url': 'https://swapi.dev/api/planets/2/'}, {'name': 'Yavin IV', 'rotation_period': '24', 'orbital_period': '4818', 'diameter': '10200', 'climate': 'temperate, tropical', 'gravity': '1 standard', 'terrain': 'jungle, rainforests', 'surface_water': '8', 'population': '1000', 'residents': [], 'films': ['https://swapi.dev/api/films/1/'], 'created': '2014-12-10T11:37:19.144000Z', 'edited': '2014-12-20T20:58:18.421000Z', 'url': 'https://swapi.dev/api/planets/3/'}, {'name': 'Hoth', 'rotation_period': '23', 'orbital_period': '549', 'diameter': '7200', 'climate': 'frozen', 'gravity': '1.1 standard', 'terrain': 'tundra, ice caves, mountain ranges', 'surface_water': '100', 'population': 'unknown', 'residents': [], 'films': ['https://swapi.dev/api/films/2/'], 'created': '2014-12-10T11:39:13.934000Z', 'edited': '2014-12-20T20:58:18.423000Z', 'url': 'https://swapi.dev/api/planets/4/'}, {'name': 'Dagobah', 'rotation_period': '23', 'orbital_period': '341', 'diameter': '8900', 'climate': 'murky', 'gravity': 'N/A', 'terrain': 'swamp, jungles', 'surface_water': '8', 'population': 'unknown', 'residents': [], 'films': ['https://swapi.dev/api/films/2/', 'https://swapi.dev/api/films/3/', 'https://swapi.dev/api/films/6/'], 'created': '2014-12-10T11:42:22.590000Z', 'edited': '2014-12-20T20:58:18.425000Z', 'url': 'https://swapi.dev/api/planets/5/'}, {'name': 'Bespin', 'rotation_period': '12', 'orbital_period': '5110', 'diameter': '118000', 'climate': 'temperate', 'gravity': '1.5 (surface), 1 standard (Cloud City)', 'terrain': 'gas giant', 'surface_water': '0', 'population': '6000000', 'residents': ['https://swapi.dev/api/people/26/'], 'films': ['https://swapi.dev/api/films/2/'], 'created': '2014-12-10T11:43:55.240000Z', 'edited': '2014-12-20T20:58:18.427000Z', 'url': 'https://swapi.dev/api/planets/6/'}, {'name': 'Endor', 'rotation_period': '18', 'orbital_period': '402', 'diameter': '4900', 'climate': 'temperate', 'gravity': '0.85 standard', 'terrain': 'forests, mountains, lakes', 'surface_water': '8', 'population': '30000000', 'residents': ['https://swapi.dev/api/people/30/'], 'films': ['https://swapi.dev/api/films/3/'], 'created': '2014-12-10T11:50:29.349000Z', 'edited': '2014-12-20T20:58:18.429000Z', 'url': 'https://swapi.dev/api/planets/7/'}, {'name': 'Naboo', 'rotation_period': '26', 'orbital_period': '312', 'diameter': '12120', 'climate': 'temperate', 'gravity': '1 standard', 'terrain': 'grassy hills, swamps, forests, mountains', 'surface_water': '12', 'population': '4500000000', 'residents': ['https://swapi.dev/api/people/3/', 'https://swapi.dev/api/people/21/', 'https://swapi.dev/api/people/35/', 'https://swapi.dev/api/people/36/', 'https://swapi.dev/api/people/37/', 'https://swapi.dev/api/people/38/', 'https://swapi.dev/api/people/39/', 'https://swapi.dev/api/people/42/', 'https://swapi.dev/api/people/60/', 'https://swapi.dev/api/people/61/', 'https://swapi.dev/api/people/66/'], 'films': ['https://swapi.dev/api/films/3/', 'https://swapi.dev/api/films/4/', 'https://swapi.dev/api/films/5/', 'https://swapi.dev/api/films/6/'], 'created': '2014-12-10T11:52:31.066000Z', 'edited': '2014-12-20T20:58:18.430000Z', 'url': 'https://swapi.dev/api/planets/8/'}, {'name': 'Coruscant', 'rotation_period': '24', 'orbital_period': '368', 'diameter': '12240', 'climate': 'temperate', 'gravity': '1 standard', 'terrain': 'cityscape, mountains', 'surface_water': 'unknown', 'population': '1000000000000', 'residents': ['https://swapi.dev/api/people/34/', 'https://swapi.dev/api/people/55/', 'https://swapi.dev/api/people/74/'], 'films': ['https://swapi.dev/api/films/3/', 'https://swapi.dev/api/films/4/', 'https://swapi.dev/api/films/5/', 'https://swapi.dev/api/films/6/'], 'created': '2014-12-10T11:54:13.921000Z', 'edited': '2014-12-20T20:58:18.432000Z', 'url': 'https://swapi.dev/api/planets/9/'}, {'name': 'Kamino', 'rotation_period': '27', 'orbital_period': '463', 'diameter': '19720', 'climate': 'temperate', 'gravity': '1 standard', 'terrain': 'ocean', 'surface_water': '100', 'population': '1000000000', 'residents': ['https://swapi.dev/api/people/22/', 'https://swapi.dev/api/people/72/', 'https://swapi.dev/api/people/73/'], 'films': ['https://swapi.dev/api/films/5/'], 'created': '2014-12-10T12:45:06.577000Z', 'edited': '2014-12-20T20:58:18.434000Z', 'url': 'https://swapi.dev/api/planets/10/'}]}\n"
     ]
    }
   ],
   "source": [
    "import requests\n",
    "\n",
    "# connect to the 'Star Wars' api and assign it to the variable 'swapi_url'\n",
    "swapi_url = \"https://swapi.dev/api/planets/\"\n",
    "# use a try/except block to pull the API using a GET request\n",
    "try:\n",
    "    response = requests.get(swapi_url)\n",
    "\n",
    "    # check if the request was successful (status code 200)\n",
    "    if response.status_code == 200:\n",
    "        # parse and work with the response data (in JSON format)\n",
    "        data = response.json()\n",
    "        # print the response of the data\n",
    "        print(data)\n",
    "    # if the request was unsuccessful, print the the failed request message     \n",
    "    else:\n",
    "        print(f\"Request failed with status code: {response.status_code}\")\n",
    "except requests.exceptions.RequestException as e:\n",
    "    print(f\"An error occurred: {e}\")\n"
   ]
  },
  {
   "cell_type": "markdown",
   "id": "5182c36a",
   "metadata": {},
   "source": [
    "### 4. Using one of the datasets provided in Weeks 7 & 8, or a dataset of your own, choose 3 of the following visualizations to complete. You must submit via PDF along with your code. You are free to use Matplotlib, Seaborn or another package if you prefer."
   ]
  },
  {
   "cell_type": "markdown",
   "id": "9d9d59b2",
   "metadata": {},
   "source": [
    "I will be importing my own dataset of my recorded miles running over the past 10 years."
   ]
  },
  {
   "cell_type": "code",
   "execution_count": 117,
   "id": "1bbf4fc7",
   "metadata": {},
   "outputs": [],
   "source": [
    "import matplotlib.pyplot as plt\n",
    "import pandas as pd\n",
    "import numpy as np"
   ]
  },
  {
   "cell_type": "code",
   "execution_count": 118,
   "id": "1e94534c",
   "metadata": {},
   "outputs": [],
   "source": [
    "# use read_csv from the pandas package to upload and read the csv file\n",
    "running_df = pd.read_csv(\"Running Miles.csv\")"
   ]
  },
  {
   "cell_type": "code",
   "execution_count": 119,
   "id": "4b77d855",
   "metadata": {},
   "outputs": [
    {
     "data": {
      "text/html": [
       "<div>\n",
       "<style scoped>\n",
       "    .dataframe tbody tr th:only-of-type {\n",
       "        vertical-align: middle;\n",
       "    }\n",
       "\n",
       "    .dataframe tbody tr th {\n",
       "        vertical-align: top;\n",
       "    }\n",
       "\n",
       "    .dataframe thead th {\n",
       "        text-align: right;\n",
       "    }\n",
       "</style>\n",
       "<table border=\"1\" class=\"dataframe\">\n",
       "  <thead>\n",
       "    <tr style=\"text-align: right;\">\n",
       "      <th></th>\n",
       "      <th>Year</th>\n",
       "      <th>Runs</th>\n",
       "      <th>Pace</th>\n",
       "      <th>Distance</th>\n",
       "      <th>Avg. Distance</th>\n",
       "      <th>Total Time</th>\n",
       "    </tr>\n",
       "  </thead>\n",
       "  <tbody>\n",
       "    <tr>\n",
       "      <th>0</th>\n",
       "      <td>2012.0</td>\n",
       "      <td>11.0</td>\n",
       "      <td>0:08:57</td>\n",
       "      <td>18.00</td>\n",
       "      <td>1.64</td>\n",
       "      <td>2:47:12</td>\n",
       "    </tr>\n",
       "    <tr>\n",
       "      <th>1</th>\n",
       "      <td>2013.0</td>\n",
       "      <td>14.0</td>\n",
       "      <td>0:10:18</td>\n",
       "      <td>27.65</td>\n",
       "      <td>1.98</td>\n",
       "      <td>4:36:41</td>\n",
       "    </tr>\n",
       "    <tr>\n",
       "      <th>2</th>\n",
       "      <td>2014.0</td>\n",
       "      <td>42.0</td>\n",
       "      <td>0:08:56</td>\n",
       "      <td>58.47</td>\n",
       "      <td>1.39</td>\n",
       "      <td>9:04:23</td>\n",
       "    </tr>\n",
       "    <tr>\n",
       "      <th>3</th>\n",
       "      <td>2015.0</td>\n",
       "      <td>33.0</td>\n",
       "      <td>0:09:21</td>\n",
       "      <td>43.20</td>\n",
       "      <td>1.31</td>\n",
       "      <td>6:45:21</td>\n",
       "    </tr>\n",
       "    <tr>\n",
       "      <th>4</th>\n",
       "      <td>2016.0</td>\n",
       "      <td>53.0</td>\n",
       "      <td>0:09:14</td>\n",
       "      <td>89.85</td>\n",
       "      <td>1.70</td>\n",
       "      <td>13:55:46</td>\n",
       "    </tr>\n",
       "    <tr>\n",
       "      <th>5</th>\n",
       "      <td>2017.0</td>\n",
       "      <td>83.0</td>\n",
       "      <td>0:10:26</td>\n",
       "      <td>234.17</td>\n",
       "      <td>2.82</td>\n",
       "      <td>41:11:59</td>\n",
       "    </tr>\n",
       "    <tr>\n",
       "      <th>6</th>\n",
       "      <td>2018.0</td>\n",
       "      <td>59.0</td>\n",
       "      <td>0:10:49</td>\n",
       "      <td>229.39</td>\n",
       "      <td>3.89</td>\n",
       "      <td>42:33:30</td>\n",
       "    </tr>\n",
       "    <tr>\n",
       "      <th>7</th>\n",
       "      <td>2019.0</td>\n",
       "      <td>79.0</td>\n",
       "      <td>0:10:17</td>\n",
       "      <td>310.32</td>\n",
       "      <td>3.93</td>\n",
       "      <td>50:56:03</td>\n",
       "    </tr>\n",
       "    <tr>\n",
       "      <th>8</th>\n",
       "      <td>2020.0</td>\n",
       "      <td>181.0</td>\n",
       "      <td>0:08:19</td>\n",
       "      <td>899.69</td>\n",
       "      <td>4.97</td>\n",
       "      <td>129:32:08</td>\n",
       "    </tr>\n",
       "    <tr>\n",
       "      <th>9</th>\n",
       "      <td>2021.0</td>\n",
       "      <td>100.0</td>\n",
       "      <td>0:08:44</td>\n",
       "      <td>466.25</td>\n",
       "      <td>4.66</td>\n",
       "      <td>71:24:54</td>\n",
       "    </tr>\n",
       "    <tr>\n",
       "      <th>10</th>\n",
       "      <td>2022.0</td>\n",
       "      <td>117.0</td>\n",
       "      <td>0:09:03</td>\n",
       "      <td>288.29</td>\n",
       "      <td>2.46</td>\n",
       "      <td>43:31:22</td>\n",
       "    </tr>\n",
       "    <tr>\n",
       "      <th>11</th>\n",
       "      <td>2023.0</td>\n",
       "      <td>70.0</td>\n",
       "      <td>0:09:18</td>\n",
       "      <td>207.98</td>\n",
       "      <td>2.97</td>\n",
       "      <td>32:00:55</td>\n",
       "    </tr>\n",
       "    <tr>\n",
       "      <th>12</th>\n",
       "      <td>NaN</td>\n",
       "      <td>842.0</td>\n",
       "      <td>0:09:28</td>\n",
       "      <td>2873.26</td>\n",
       "      <td>3.41</td>\n",
       "      <td>448:20:14</td>\n",
       "    </tr>\n",
       "    <tr>\n",
       "      <th>13</th>\n",
       "      <td>NaN</td>\n",
       "      <td>NaN</td>\n",
       "      <td>NaN</td>\n",
       "      <td>NaN</td>\n",
       "      <td>NaN</td>\n",
       "      <td>NaN</td>\n",
       "    </tr>\n",
       "  </tbody>\n",
       "</table>\n",
       "</div>"
      ],
      "text/plain": [
       "      Year   Runs     Pace  Distance  Avg. Distance Total Time\n",
       "0   2012.0   11.0  0:08:57     18.00           1.64    2:47:12\n",
       "1   2013.0   14.0  0:10:18     27.65           1.98    4:36:41\n",
       "2   2014.0   42.0  0:08:56     58.47           1.39    9:04:23\n",
       "3   2015.0   33.0  0:09:21     43.20           1.31    6:45:21\n",
       "4   2016.0   53.0  0:09:14     89.85           1.70   13:55:46\n",
       "5   2017.0   83.0  0:10:26    234.17           2.82   41:11:59\n",
       "6   2018.0   59.0  0:10:49    229.39           3.89   42:33:30\n",
       "7   2019.0   79.0  0:10:17    310.32           3.93   50:56:03\n",
       "8   2020.0  181.0  0:08:19    899.69           4.97  129:32:08\n",
       "9   2021.0  100.0  0:08:44    466.25           4.66   71:24:54\n",
       "10  2022.0  117.0  0:09:03    288.29           2.46   43:31:22\n",
       "11  2023.0   70.0  0:09:18    207.98           2.97   32:00:55\n",
       "12     NaN  842.0  0:09:28   2873.26           3.41  448:20:14\n",
       "13     NaN    NaN      NaN       NaN            NaN        NaN"
      ]
     },
     "execution_count": 119,
     "metadata": {},
     "output_type": "execute_result"
    }
   ],
   "source": [
    "# print the DataFrame of my running data\n",
    "running_df"
   ]
  },
  {
   "cell_type": "markdown",
   "id": "75dcf362",
   "metadata": {},
   "source": [
    "#### a. Line"
   ]
  },
  {
   "cell_type": "code",
   "execution_count": 120,
   "id": "dd425bc4",
   "metadata": {},
   "outputs": [
    {
     "data": {
      "text/plain": [
       "Text(0, 0.5, 'Distance')"
      ]
     },
     "execution_count": 120,
     "metadata": {},
     "output_type": "execute_result"
    },
    {
     "data": {
      "image/png": "[encoded data removed]",
      "text/plain": [
       "<Figure size 800x400 with 1 Axes>"
      ]
     },
     "metadata": {},
     "output_type": "display_data"
    }
   ],
   "source": [
    "# create a line plot of my running data comparing miles per year\n",
    "plt.figure(figsize=(8, 4))\n",
    "plt.plot(running_df['Year'], running_df['Distance'], marker = 'o', linestyle = '-')\n",
    "plt.title('Yearly Miles Over Time')\n",
    "plt.xlabel('Year')\n",
    "plt.ylabel('Distance')"
   ]
  },
  {
   "cell_type": "markdown",
   "id": "7025b809",
   "metadata": {},
   "source": [
    "#### b. Scatter"
   ]
  },
  {
   "cell_type": "code",
   "execution_count": 121,
   "id": "2de07d44",
   "metadata": {},
   "outputs": [
    {
     "data": {
      "image/png": "[encoded data removed]",
      "text/plain": [
       "<Figure size 800x400 with 1 Axes>"
      ]
     },
     "metadata": {},
     "output_type": "display_data"
    }
   ],
   "source": [
    "# create a scatter plot of my running data showing the number of runs per year\n",
    "plt.figure(figsize=(8, 4))\n",
    "plt.scatter(running_df['Runs'], running_df['Year'], color = 'teal', marker = 'o')\n",
    "plt.title('Number of Runs Per Year')\n",
    "plt.xlabel('Runs')\n",
    "plt.ylabel('Year')\n",
    "plt.grid(True)"
   ]
  },
  {
   "cell_type": "markdown",
   "id": "56cf0be3",
   "metadata": {},
   "source": [
    "#### c. Bar"
   ]
  },
  {
   "cell_type": "code",
   "execution_count": 122,
   "id": "464a569e",
   "metadata": {},
   "outputs": [
    {
     "data": {
      "text/plain": [
       "Text(0, 0.5, 'Avg. Distance')"
      ]
     },
     "execution_count": 122,
     "metadata": {},
     "output_type": "execute_result"
    },
    {
     "data": {
      "image/png": "[encoded data removed]",
      "text/plain": [
       "<Figure size 800x400 with 1 Axes>"
      ]
     },
     "metadata": {},
     "output_type": "display_data"
    }
   ],
   "source": [
    "# create a bar plot of my running data to show the average distance ran per year\n",
    "plt.figure(figsize=(8, 4))\n",
    "plt.bar(running_df['Year'], running_df['Avg. Distance'])\n",
    "plt.title('Average Distance Per Year')\n",
    "plt.xlabel('Year')\n",
    "plt.ylabel('Avg. Distance')"
   ]
  },
  {
   "cell_type": "code",
   "execution_count": null,
   "id": "9e4468c2",
   "metadata": {},
   "outputs": [],
   "source": []
  }
 ],
 "metadata": {
  "kernelspec": {
   "display_name": "Python 3 (ipykernel)",
   "language": "python",
   "name": "python3"
  },
  "language_info": {
   "codemirror_mode": {
    "name": "ipython",
    "version": 3
   },
   "file_extension": ".py",
   "mimetype": "text/x-python",
   "name": "python",
   "nbconvert_exporter": "python",
   "pygments_lexer": "ipython3",
   "version": "3.11.4"
  }
 },
 "nbformat": 4,
 "nbformat_minor": 5
}
